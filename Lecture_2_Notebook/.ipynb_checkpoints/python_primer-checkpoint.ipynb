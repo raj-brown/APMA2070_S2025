{
 "cells": [
  {
   "cell_type": "markdown",
   "id": "356ba3fa",
   "metadata": {},
   "source": [
    "<div>\n",
    "<img src=\"https://cdn3.iconfinder.com/data/icons/logos-and-brands-adobe/512/267_Python-512.png\" width=\"150\" style=\"margin: 5px auto; display: block; position: relative; left: -30px;\" />\n",
    "</div>\n"
   ]
  },
  {
   "cell_type": "markdown",
   "id": "77fd1c51",
   "metadata": {},
   "source": [
    "## Submodule -1.2 : A primer on Python and NumPy, SciPy and Matplotlib"
   ]
  },
  {
   "cell_type": "markdown",
   "id": "0792af43",
   "metadata": {},
   "source": [
    "## Table of Contents\n",
    "#### 1. [Basics of Python](#Basics-of-Python)\n",
    "#### 2. [Basics of NumPy Arrays ](#Basics-of-NumPy-Arrays )\n",
    "#### 3. [NumPy Array Attributes](#NumPy-Array-Attributes)\n",
    "#### 4. [Fancy Indexing](#Fancy-Indexing)\n",
    "#### 5. [Basics of SciPy](#Basics-of-SciPy)"
   ]
  },
  {
   "cell_type": "markdown",
   "id": "bbd3f65f",
   "metadata": {},
   "source": [
    "## Basics of Python"
   ]
  },
  {
   "cell_type": "code",
   "execution_count": null,
   "id": "fceb0bc0",
   "metadata": {},
   "outputs": [],
   "source": [
    "!pip install matplotlib"
   ]
  },
  {
   "cell_type": "code",
   "execution_count": 68,
   "id": "59531e5c",
   "metadata": {},
   "outputs": [
    {
     "name": "stdout",
     "output_type": "stream",
     "text": [
      "Hello APMA2070-ENGN2912\n"
     ]
    }
   ],
   "source": [
    "print(\"Hello APMA2070-ENGN2912\")"
   ]
  },
  {
   "cell_type": "markdown",
   "id": "da7d7de6",
   "metadata": {},
   "source": [
    "###### Declaring and Printing variables in Python3\n",
    "In Python we don't require the declaration of variables, we can intialize the variable by typing it out."
   ]
  },
  {
   "cell_type": "code",
   "execution_count": 71,
   "id": "14a21005",
   "metadata": {},
   "outputs": [],
   "source": [
    "x = 3\n"
   ]
  },
  {
   "cell_type": "code",
   "execution_count": 69,
   "id": "ec344a5f",
   "metadata": {},
   "outputs": [
    {
     "name": "stdout",
     "output_type": "stream",
     "text": [
      "The value of integer x is 3 and type <class 'int'>.\n",
      "Absolute value of x is : 3.0\n",
      "The Type of x is <class 'float'>\n",
      "String x is: Deep Learning is a cool subject.\n",
      "y\n"
     ]
    }
   ],
   "source": [
    "x = 3\n",
    "print(f\"The value of integer x is {x} and type {type(x)}.\")\n",
    "x = -3.0\n",
    "\n",
    "print(f\"Absolute value of x is : {abs(x)}\")\n",
    "\n",
    "x = -3.0\n",
    "print(f\"The Type of x is {type(x)}\")\n",
    "\n",
    "x = \"Deep Learning is a cool subject.\"\n",
    "print(f\"String x is: {x}\")\n",
    "\n",
    "x ='y'\n",
    "\n",
    "print(x)\n"
   ]
  },
  {
   "cell_type": "markdown",
   "id": "262a4c00",
   "metadata": {},
   "source": [
    "###### Code structure:\n",
    "In python indentation is mandatory. In other programming language indentation is optional and curly braces, tab are used to denote the block of code at a level. In Python there is no begin and end structure and identation of a code block represnts a level in the code. For example below is the block for ***if, else if***  and ***else*** represntation."
   ]
  },
  {
   "cell_type": "code",
   "execution_count": 13,
   "id": "dfbc171a",
   "metadata": {},
   "outputs": [
    {
     "name": "stdout",
     "output_type": "stream",
     "text": [
      "Value of x is greater than 1.\n"
     ]
    }
   ],
   "source": [
    "x = 2\n",
    "if x > 1:\n",
    "    print(\"Value of x is greater than 1.\")\n",
    "elif x < 1:\n",
    "    print(\"Value of x is less than 1.\")\n",
    "else:\n",
    "    print(\"No conditional statement on x.\")"
   ]
  },
  {
   "cell_type": "code",
   "execution_count": 76,
   "id": "e38e0791",
   "metadata": {},
   "outputs": [
    {
     "name": "stdout",
     "output_type": "stream",
     "text": [
      " String in double quotes is printed.\n",
      " String in single quotes is printed.\n",
      "s=10\n",
      "<class 'str'>\n",
      "s1s2\n"
     ]
    }
   ],
   "source": [
    "s = \"String in double quotes\"\n",
    "print(f\" {s} is printed.\")\n",
    "s = 'String in single quotes'\n",
    "print(f\" {s} is printed.\")\n",
    "s = 10\n",
    "print(f\"{s=}\")\n",
    "s = \"APMA\"\n",
    "print(type(s))\n",
    "dir(s)\n",
    "z = \"s1\" + \"s2\"\n",
    "print(z)"
   ]
  },
  {
   "cell_type": "markdown",
   "id": "e90f8cf0",
   "metadata": {},
   "source": [
    "Strings are spanned in multiple lines using triple quotes "
   ]
  },
  {
   "cell_type": "code",
   "execution_count": 15,
   "id": "07d50684",
   "metadata": {},
   "outputs": [
    {
     "name": "stdout",
     "output_type": "stream",
     "text": [
      " Multiline represntation are: This line spans in multiline comments,\n",
      "     and here is the second line.\n",
      "\n"
     ]
    }
   ],
   "source": [
    "s= \"\"\"This line spans in multiline comments,\n",
    "     and here is the second line.\n",
    "\"\"\"\n",
    "print(f\" Multiline represntation are: {s}\")"
   ]
  },
  {
   "cell_type": "markdown",
   "id": "e93ef252",
   "metadata": {},
   "source": [
    "###### Cmment in Python\n",
    "In Python a line of the code is commented by prepending it with ****#****."
   ]
  },
  {
   "cell_type": "code",
   "execution_count": 77,
   "id": "5cbff282",
   "metadata": {},
   "outputs": [
    {
     "data": {
      "text/plain": [
       "'\\nThis line is not to be considered for execution\\n'"
      ]
     },
     "execution_count": 77,
     "metadata": {},
     "output_type": "execute_result"
    }
   ],
   "source": [
    "\"\"\"\n",
    "This line is not to be considered for execution\n",
    "\"\"\"\n",
    "\n"
   ]
  },
  {
   "cell_type": "markdown",
   "id": "748b0f49",
   "metadata": {},
   "source": [
    "###### Objects in Python"
   ]
  },
  {
   "cell_type": "markdown",
   "id": "b5f37ec5",
   "metadata": {},
   "source": [
    "In Python every thing is an ***object*** of some ***class***. This means everything in Python is invoked as an instantion of Python or user defined class. These classes are bind to the methods or function attributed to that class. For example in below cell a variable ***x*** is declared and the ***class** of the variable ***x*** is obtained by invoking ****type(x)****. The methods or subroutines which is predefined by Python can be invoked as ***dir(x)***"
   ]
  },
  {
   "cell_type": "code",
   "execution_count": 18,
   "id": "35745eea",
   "metadata": {},
   "outputs": [
    {
     "name": "stdout",
     "output_type": "stream",
     "text": [
      " Type of x is: <class 'int'>\n"
     ]
    }
   ],
   "source": [
    "x = 5\n",
    "print(f\" Type of x is: {type(x)}\")\n"
   ]
  },
  {
   "cell_type": "markdown",
   "id": "3c4047b0",
   "metadata": {},
   "source": [
    "###### Importing a module\n",
    "\n",
    "To import a module, a collection of classes and methods, we use ****import*** keyword. for example ***numpy*** and ***scipy*** are availble package and can be imported in the environment as\n"
   ]
  },
  {
   "cell_type": "code",
   "execution_count": 78,
   "id": "4b15d795",
   "metadata": {},
   "outputs": [
    {
     "name": "stdout",
     "output_type": "stream",
     "text": [
      "Type of Numpy is: <class 'module'> and type of SciPy is <class 'module'>\n",
      "Type of np.pi is <class 'float'> and Type of <class 'numpy.ufunc'>\n"
     ]
    }
   ],
   "source": [
    "import numpy as np\n",
    "import scipy as sp\n",
    "\n",
    "print(f\"Type of Numpy is: {type(np)} and type of SciPy is {type(sp)}\")\n",
    "\n",
    "print(f\"Type of np.pi is {type(np.pi)} and Type of {type(np.sin)}\")\n"
   ]
  },
  {
   "cell_type": "markdown",
   "id": "e86449aa",
   "metadata": {},
   "source": [
    "In above example np and sp are classes and np.pi is instantiation class float. The np.sin is *ufunc which is an abbreviation of universal function and considered as method of np class."
   ]
  },
  {
   "cell_type": "markdown",
   "id": "53136ad6",
   "metadata": {},
   "source": [
    "###### For loop in Python\n"
   ]
  },
  {
   "cell_type": "code",
   "execution_count": 19,
   "id": "708135e7",
   "metadata": {},
   "outputs": [
    {
     "name": "stdout",
     "output_type": "stream",
     "text": [
      "Hello world from 0th iteration!\n",
      "Hello world from 2th iteration!\n",
      "Hello world from 4th iteration!\n"
     ]
    }
   ],
   "source": [
    "# Printing hello world six times:\n",
    "# We use range function which takes the argument as: range(start, stop, increment)\n",
    "for i in range(0,6,2):\n",
    "    print(f\"Hello world from {i}th iteration!\")\n"
   ]
  },
  {
   "cell_type": "code",
   "execution_count": 83,
   "id": "96732d7e",
   "metadata": {},
   "outputs": [],
   "source": [
    "y = list(range(0,100,2))\n"
   ]
  },
  {
   "cell_type": "markdown",
   "id": "4252a0c9",
   "metadata": {},
   "source": [
    "###### Data structures in Python:\n",
    "1) List: [ ] array type data structures and mutable, which means this type of data structure can be modified. \n",
    "2) Tuple: ( ) is like list but immutable.\n",
    "3) Dictionary: { }: The dictionary data structure based on hash table and data is stored in ***key:value*** form."
   ]
  },
  {
   "cell_type": "code",
   "execution_count": 90,
   "id": "54b65cf4",
   "metadata": {},
   "outputs": [
    {
     "name": "stdout",
     "output_type": "stream",
     "text": [
      "[2, 3, 4, 5, 6, 'APMA', 8]\n"
     ]
    }
   ],
   "source": [
    "# List\n",
    "x = [2, 3, 4, 5, 6, \"APMA\"]\n",
    "x.append(8)\n",
    "print\n",
    "#f\"Original list x : {type(x)} \")\n",
    "print(x)"
   ]
  },
  {
   "cell_type": "code",
   "execution_count": 25,
   "id": "8c53eb55",
   "metadata": {
    "scrolled": true
   },
   "outputs": [
    {
     "name": "stdout",
     "output_type": "stream",
     "text": [
      "Original list x : [2, 3, 4, 5, 6] \n",
      " List x after append operation: [2, 3, 4, 5, 6, 7]\n",
      " List x after pop operation: [2, 3, 4, 5, 6]\n",
      " Length of the list is: 5\n",
      "In forward direction: element at positive index 0 is: 2\n",
      "In forward direction: element at positive index 1 is: 3\n",
      "In forward direction: element at positive index 2 is: 4\n",
      "In forward direction: element at positive index 3 is: 5\n",
      "In forward direction: element at positive index 4 is: 6\n",
      "In backward direction: element at neagtive index 0 is: 2\n",
      "In backward direction: element at neagtive index -1 is: 6\n",
      "In backward direction: element at neagtive index -2 is: 5\n",
      "In backward direction: element at neagtive index -3 is: 4\n",
      "In backward direction: element at neagtive index -4 is: 3\n"
     ]
    }
   ],
   "source": [
    "# List\n",
    "x = [2, 3, 4, 5, 6]\n",
    "print(f\"Original list x : {x} \")\n",
    "\n",
    "# Modifying x by adding the data: # Removing the data from the list using the pop method.\n",
    "# List behave as a Stack data structure and insertion and deletion of data from the list is based on LIFO \n",
    "# approach, i.e., Last In First Out.\n",
    "# Insertion is done using the append method and deletion is done using the pop method.\n",
    "# Invoking append method on a list will add the element in last and using pop method will remove the last element \n",
    "# the list.\n",
    "\n",
    "#Append-\n",
    "x.append(7)\n",
    "print(f\" List x after append operation: {x}\")\n",
    "\n",
    "# # Pop\n",
    "x.pop()\n",
    "\n",
    "print(f\" List x after pop operation: {x}\")\n",
    "\n",
    "# # Length of the list using len method\n",
    "print(f\" Length of the list is: {len(x)}\")\n",
    "\n",
    "# # Indexing in List: In python the indexing starts from 0\n",
    "\n",
    "for i in range(len(x)):\n",
    "    print(f\"In forward direction: element at positive index {i} is: {x[i]}\")\n",
    "    \n",
    "# # We can also use negative index which will allow us to read the list from the backward.\n",
    "\n",
    "# print(\"********************************************************\")\n",
    "# print(\"********************************************************\")\n",
    "# print(\"********************************************************\")\n",
    "\n",
    "for i in range(len(x)):\n",
    "    print(f\"In backward direction: element at neagtive index {-i} is: {x[-i]}\")"
   ]
  },
  {
   "cell_type": "code",
   "execution_count": 84,
   "id": "55124042",
   "metadata": {},
   "outputs": [
    {
     "name": "stdout",
     "output_type": "stream",
     "text": [
      "5\n",
      "7\n",
      "8\n",
      "10\n"
     ]
    }
   ],
   "source": [
    "x = [5, 7, 8, 10]\n",
    "len(x)\n",
    "for i in range(len(x)):\n",
    "    print(x[i])"
   ]
  },
  {
   "cell_type": "code",
   "execution_count": 26,
   "id": "c4b2d161",
   "metadata": {},
   "outputs": [
    {
     "name": "stdout",
     "output_type": "stream",
     "text": [
      "L[0] is abc and type is: <class 'str'>\n",
      "L[1] is 1 and type is: <class 'int'>\n",
      "L[2] is 2 and type is: <class 'int'>\n",
      "L[3] is 3 and type is: <class 'int'>\n",
      "L[4] is [4, 'b'] and type is: <class 'list'>\n"
     ]
    }
   ],
   "source": [
    "# Print a List with indices\n",
    "L = ['abc', 1,2,3, [4, 'b']]\n",
    "for ind, value in enumerate(L):\n",
    "    print(f\"L[{ind}] is {value} and type is: {type(value)}\")\n"
   ]
  },
  {
   "cell_type": "markdown",
   "id": "770b50d0",
   "metadata": {},
   "source": [
    "###### Pointer aliasing\n",
    "The one important feature of the list is that name of the list is pointer and two pointer can point to same object, e.g.,\n",
    "\n"
   ]
  },
  {
   "cell_type": "code",
   "execution_count": 91,
   "id": "c642ca21",
   "metadata": {},
   "outputs": [
    {
     "name": "stdout",
     "output_type": "stream",
     "text": [
      "Original y is [1, 2, 3]\n",
      "Modified y is [1, 2, 3, 6]\n",
      "x is [1, 2, 3, 6]\n"
     ]
    }
   ],
   "source": [
    "# Initialization of list\n",
    "x = [1,2,3]\n",
    "\n",
    "# shallow copy\n",
    "y = x\n",
    "print(f\"Original y is {y}\")\n",
    "\n",
    "### Modify Y\n",
    "y.append(6)\n",
    "\n",
    "print(f\"Modified y is {y}\")\n",
    "\n",
    "# Now check the values in x\n",
    "print(f\"x is {x}\")\n",
    "\n",
    "## Although, we modified y but x is also modied because two pointers y and x is pointing to same data structures.\n",
    "\n"
   ]
  },
  {
   "cell_type": "code",
   "execution_count": 29,
   "id": "0a92c79b",
   "metadata": {},
   "outputs": [],
   "source": [
    "import copy\n"
   ]
  },
  {
   "cell_type": "code",
   "execution_count": 30,
   "id": "34383d7c",
   "metadata": {},
   "outputs": [
    {
     "name": "stdout",
     "output_type": "stream",
     "text": [
      "Original y is [1, 2, 3].\n",
      "Modified y is [1, 2, 3, 5].\n",
      "x is [1, 2, 3].\n",
      "===============================\n",
      "===============================\n"
     ]
    }
   ],
   "source": [
    "## To avoid this, we have to explicitly use copy operation or deepcopy\n",
    "x=[1,2,3]\n",
    "\n",
    "# list command will allocate and intialize a new array and will avoide the pointer aliasing.\n",
    "y = copy.copy(x)\n",
    "\n",
    "print(f\"Original y is {y}.\")\n",
    "\n",
    "y.append(5)\n",
    "\n",
    "print(f\"Modified y is {y}.\")\n",
    "\n",
    "print(f\"x is {x}.\")\n",
    "\n",
    "print(\"===============================\")\n",
    "print(\"===============================\")\n",
    "## We can also use copy module which works for any object\n",
    "\n",
    "# import copy\n",
    "\n",
    "# print(\"Avoding Pointer aliasing using copy command.\")\n",
    "# x = [1,2,3, 'abc', [4,5]]\n",
    "# print(f\"Original x is {x}\")\n",
    "\n",
    "# ### Allocate y as different pointer\n",
    "# y = copy.copy(x)\n",
    "\n",
    "# #### Modify x\n",
    "# x.append(10)\n",
    "# print(f\"Modified x is {x}\")\n",
    "# print(f\"y using the copy command is {y}\")\n",
    "\n",
    "\n"
   ]
  },
  {
   "cell_type": "markdown",
   "id": "af897271",
   "metadata": {},
   "source": [
    "###### Tuple data structure"
   ]
  },
  {
   "cell_type": "code",
   "execution_count": 32,
   "id": "f571ae41",
   "metadata": {},
   "outputs": [
    {
     "name": "stdout",
     "output_type": "stream",
     "text": [
      "Type of x is: <class 'tuple'>\n",
      "x[0] is 1 and type is <class 'int'>\n",
      "x[1] is 2 and type is <class 'int'>\n",
      "x[2] is 8 and type is <class 'str'>\n",
      "x[3] is abd and type is <class 'str'>\n"
     ]
    }
   ],
   "source": [
    "# Tuple is Unmutble data structures and can be represnted as parenthese ()\n",
    "x = (1,2)\n",
    "\n",
    "print(f\"Type of x is: {type(x)}\")\n",
    "\n",
    "x = (1,2,'8',\"abd\")\n",
    "\n",
    "# The indices of tupe start with 0 and can hold different type of objects.\n",
    "\n",
    "for ind, val in enumerate(x):\n",
    "    print(f\"x[{ind}] is {val} and type is {type(val)}\")\n",
    "    "
   ]
  },
  {
   "cell_type": "markdown",
   "id": "abc041db",
   "metadata": {},
   "source": [
    "###### Dictionaries"
   ]
  },
  {
   "cell_type": "code",
   "execution_count": 33,
   "id": "6103ad54",
   "metadata": {},
   "outputs": [
    {
     "name": "stdout",
     "output_type": "stream",
     "text": [
      "1234\n",
      "Brown University\n"
     ]
    }
   ],
   "source": [
    "# Define a dictionary\n",
    "d = {\"user\": 1234, \"Raj\": \"Brown University\"}\n",
    "print(d[\"user\"])\n",
    "print(d[\"Raj\"])"
   ]
  },
  {
   "cell_type": "code",
   "execution_count": 34,
   "id": "af0d39be",
   "metadata": {},
   "outputs": [
    {
     "name": "stdout",
     "output_type": "stream",
     "text": [
      "Key: 0 and value:user\n",
      "Key: 1 and value:Raj\n"
     ]
    }
   ],
   "source": [
    "# Printing dictionary with Key-value pair\n",
    "\n",
    "for key, value in enumerate(d):\n",
    "    print(f\"Key: {key} and value:{value}\")"
   ]
  },
  {
   "cell_type": "code",
   "execution_count": 35,
   "id": "7eb8f303",
   "metadata": {},
   "outputs": [
    {
     "name": "stdout",
     "output_type": "stream",
     "text": [
      "{'Raj': 'Brown University'}\n"
     ]
    }
   ],
   "source": [
    "# Deleting a key-value pair from dictionary\n",
    "del d[\"user\"]\n",
    "print(d)"
   ]
  },
  {
   "cell_type": "markdown",
   "id": "7b72a49c",
   "metadata": {},
   "source": [
    "###### Conditional statements"
   ]
  },
  {
   "cell_type": "code",
   "execution_count": 36,
   "id": "be4a2e6d",
   "metadata": {},
   "outputs": [
    {
     "name": "stdout",
     "output_type": "stream",
     "text": [
      "X equals 2\n",
      "Print from out of if loop\n"
     ]
    }
   ],
   "source": [
    "## if statement\n",
    "\n",
    "x = 2\n",
    "if x==3:\n",
    "    print(f\"X equals 3\")\n",
    "elif x == 2:\n",
    "    print(\"X equals 2\")\n",
    "else:\n",
    "    print(\"X equals something\")\n",
    "print(\"Print from out of if loop\")"
   ]
  },
  {
   "cell_type": "code",
   "execution_count": 37,
   "id": "186c0ffd",
   "metadata": {},
   "outputs": [
    {
     "name": "stdout",
     "output_type": "stream",
     "text": [
      "11 is still in the loop.\n",
      "12 is still in the loop.\n",
      "13 is still in the loop.\n",
      "14 is still in the loop.\n",
      "15 is still in the loop.\n",
      "16 is still in the loop.\n",
      "17 is still in the loop.\n",
      "18 is still in the loop.\n",
      "19 is still in the loop.\n",
      "20 is still in the loop.\n",
      "21 is still in the loop.\n",
      "22 is still in the loop.\n",
      "23 is still in the loop.\n",
      "24 is still in the loop.\n",
      "25 is still in the loop.\n",
      "printing from outside of while scope!\n"
     ]
    }
   ],
   "source": [
    "# While Loop\n",
    "\n",
    "#While Loop\n",
    "y = 10\n",
    "\n",
    "while y<25:\n",
    "    y = y + 1\n",
    "    print(f\"{y} is still in the loop.\" )\n",
    "\n",
    "print(\"printing from outside of while scope!\")"
   ]
  },
  {
   "cell_type": "code",
   "execution_count": 88,
   "id": "d2bc73a4",
   "metadata": {},
   "outputs": [
    {
     "name": "stdout",
     "output_type": "stream",
     "text": [
      "x is: 5\n",
      "x is: 5\n",
      "x is: 5\n",
      "x is: 5\n",
      "x is: 5\n",
      "x from while loop is: 5\n",
      "The value of i at the end of the loop:1\n",
      "x from while loop is: 5\n",
      "The value of i at the end of the loop:2\n",
      "x from while loop is: 5\n",
      "The value of i at the end of the loop:3\n",
      "x from while loop is: 5\n",
      "The value of i at the end of the loop:4\n",
      "x from while loop is: 5\n",
      "The value of i at the end of the loop:5\n"
     ]
    }
   ],
   "source": [
    "## For and While Loop\n",
    "\n",
    "x = 5\n",
    "for i in range(5):\n",
    "    print(f\"x is: {x}\")\n",
    "\n",
    "i = 0\n",
    "while i < 5:\n",
    "    print(f\"x from while loop is: {x}\")\n",
    "    i = i+1\n",
    "    print(f\"The value of i at the end of the loop:{i}\")\n",
    "    "
   ]
  },
  {
   "cell_type": "code",
   "execution_count": 11,
   "id": "9a182e89",
   "metadata": {},
   "outputs": [
    {
     "name": "stdout",
     "output_type": "stream",
     "text": [
      "n = 2 * 1 and 2 is not a prime number\n",
      "n = 2 * 2 and 4 is not a prime number\n",
      "n = 2 * 3 and 6 is not a prime number\n",
      "n = 2 * 4 and 8 is not a prime number\n"
     ]
    }
   ],
   "source": [
    "# Break Statement 1\n",
    "# Testing if n is prime number\n",
    "for n in range(2, 10):\n",
    "    for x in range(2, 10):\n",
    "        if (n % x) == 0:\n",
    "            print(f\"n = {x} * {n // x} and {n} is not a prime number\")            \n",
    "        break\n",
    "       "
   ]
  },
  {
   "cell_type": "code",
   "execution_count": 38,
   "id": "a7985a44",
   "metadata": {},
   "outputs": [
    {
     "name": "stdout",
     "output_type": "stream",
     "text": [
      "Found an even number 2\n",
      "Found an odd number= 3\n",
      "Found an even number 4\n",
      "Found an odd number= 5\n",
      "Found an even number 6\n",
      "Found an odd number= 7\n",
      "Found an even number 8\n",
      "Found an odd number= 9\n"
     ]
    }
   ],
   "source": [
    "# Continue Statement 1\n",
    "for num in range(2, 10):\n",
    "    if num % 2 == 0:\n",
    "        print(f\"Found an even number {num}\")\n",
    "        continue\n",
    "    print(f\"Found an odd number= {num}\")"
   ]
  },
  {
   "cell_type": "code",
   "execution_count": 89,
   "id": "dc41278b",
   "metadata": {},
   "outputs": [
    {
     "name": "stdout",
     "output_type": "stream",
     "text": [
      "Current Letter : P\n",
      "Current Letter : y\n",
      "Current Letter : t\n",
      "Current variable value : 10\n",
      "Current variable value : 9\n",
      "Current variable value : 8\n",
      "Current variable value : 7\n",
      "Current variable value : 6\n",
      "Good bye!\n"
     ]
    }
   ],
   "source": [
    "## Break Statement Ex 2\n",
    "\n",
    "for letter in 'Python':\n",
    "    if letter == 'h':\n",
    "        break\n",
    "    print('Current Letter :', letter)\n",
    "\n",
    "var = 10                    \n",
    "while var > 0:              \n",
    "    print('Current variable value :', var)\n",
    "    var = var - 1\n",
    "    if var == 5:\n",
    "        break\n",
    "\n",
    "print(\"Good bye!\")"
   ]
  },
  {
   "cell_type": "code",
   "execution_count": 12,
   "id": "d9a9e81d",
   "metadata": {},
   "outputs": [
    {
     "name": "stdout",
     "output_type": "stream",
     "text": [
      "Current Letter : P\n",
      "Current Letter : y\n",
      "Current Letter : t\n",
      "Current Letter : o\n",
      "Current Letter : n\n",
      "Current variable value : 9\n",
      "Current variable value : 8\n",
      "Current variable value : 7\n",
      "Current variable value : 6\n",
      "Current variable value : 4\n",
      "Current variable value : 3\n",
      "Current variable value : 2\n",
      "Current variable value : 1\n",
      "Current variable value : 0\n",
      "Good bye!\n"
     ]
    }
   ],
   "source": [
    "# Continue Statement 2\n",
    "for letter in 'Python':     \n",
    "    if letter == 'h':\n",
    "        continue\n",
    "    print('Current Letter :', letter)\n",
    "\n",
    "var = 10                   \n",
    "while var > 0:              \n",
    "    var = var -1\n",
    "    if var == 5:\n",
    "        continue\n",
    "    print('Current variable value :', var)\n",
    "print(\"Good bye!\")"
   ]
  },
  {
   "cell_type": "code",
   "execution_count": 39,
   "id": "1df582da",
   "metadata": {},
   "outputs": [
    {
     "data": {
      "text/plain": [
       "8"
      ]
     },
     "execution_count": 39,
     "metadata": {},
     "output_type": "execute_result"
    }
   ],
   "source": [
    "### Functions\n",
    "def myfun(x, y):\n",
    "    return x*y\n",
    "\n",
    "y = myfun(2,4)\n",
    "y\n",
    "\n"
   ]
  },
  {
   "cell_type": "code",
   "execution_count": 42,
   "id": "617ba439",
   "metadata": {},
   "outputs": [
    {
     "name": "stdout",
     "output_type": "stream",
     "text": [
      "y(45): 180\n",
      " z(2,2): 4\n"
     ]
    }
   ],
   "source": [
    "y = lambda z: z * 4 \n",
    "\n",
    "print(f\"y(45): {y(45)}\")\n",
    "\n",
    "z = lambda x,y: x**y\n",
    "print(f\" z(2,2): {z(2,2)}\")\n",
    "\n",
    "h = lambda x: if x > 0:\n"
   ]
  },
  {
   "cell_type": "code",
   "execution_count": 41,
   "id": "f6b7d6c2",
   "metadata": {},
   "outputs": [
    {
     "data": {
      "text/plain": [
       "[0, 1, 2, 3, 4, 5, 6, 7, 8, 9]"
      ]
     },
     "execution_count": 41,
     "metadata": {},
     "output_type": "execute_result"
    }
   ],
   "source": [
    "L = list(range(10))\n",
    "\n",
    "L"
   ]
  },
  {
   "cell_type": "code",
   "execution_count": 169,
   "id": "c7c02857",
   "metadata": {},
   "outputs": [
    {
     "data": {
      "text/plain": [
       "int"
      ]
     },
     "execution_count": 169,
     "metadata": {},
     "output_type": "execute_result"
    }
   ],
   "source": [
    "type(L[0])"
   ]
  },
  {
   "cell_type": "code",
   "execution_count": 91,
   "id": "5e26f1c8",
   "metadata": {},
   "outputs": [
    {
     "name": "stdout",
     "output_type": "stream",
     "text": [
      "4433746400\n"
     ]
    }
   ],
   "source": [
    "x = 5\n",
    "print(id(x))"
   ]
  },
  {
   "cell_type": "code",
   "execution_count": 93,
   "id": "e7e50c7b",
   "metadata": {},
   "outputs": [
    {
     "data": {
      "text/plain": [
       "['5', '6', '7', '8', '9']"
      ]
     },
     "execution_count": 93,
     "metadata": {},
     "output_type": "execute_result"
    }
   ],
   "source": [
    "L = [5, 6, 7, 8, 9]\n",
    "L = [str(c) for c in L]\n",
    "L"
   ]
  },
  {
   "cell_type": "code",
   "execution_count": 170,
   "id": "9ba9a5d5",
   "metadata": {},
   "outputs": [
    {
     "data": {
      "text/plain": [
       "['0', '1', '2', '3', '4', '5', '6', '7', '8', '9']"
      ]
     },
     "execution_count": 170,
     "metadata": {},
     "output_type": "execute_result"
    }
   ],
   "source": [
    "L2 = [str(c) for c in L]\n",
    "L2"
   ]
  },
  {
   "cell_type": "code",
   "execution_count": 171,
   "id": "b87a2e12",
   "metadata": {},
   "outputs": [
    {
     "data": {
      "text/plain": [
       "str"
      ]
     },
     "execution_count": 171,
     "metadata": {},
     "output_type": "execute_result"
    }
   ],
   "source": [
    "type(L2[0])"
   ]
  },
  {
   "cell_type": "code",
   "execution_count": 172,
   "id": "1f378f96",
   "metadata": {},
   "outputs": [
    {
     "data": {
      "text/plain": [
       "[bool, str, float, int]"
      ]
     },
     "execution_count": 172,
     "metadata": {},
     "output_type": "execute_result"
    }
   ],
   "source": [
    "L3 = [True, \"2\", 3.0, 4]\n",
    "[type(item) for item in L3]"
   ]
  },
  {
   "cell_type": "markdown",
   "id": "6e10b1f3",
   "metadata": {},
   "source": [
    "But this flexibility comes at a cost: to allow these flexible types, each item in the list must contain its own type info, reference count, and other information–that is, each item is a complete Python object. In the special case that all variables are of the same type, much of this information is redundant: it can be much more efficient to store data in a fixed-type array."
   ]
  },
  {
   "cell_type": "markdown",
   "id": "1655125a",
   "metadata": {},
   "source": [
    "# Basics of NumPy Arrays"
   ]
  },
  {
   "cell_type": "markdown",
   "id": "cea2d4c1",
   "metadata": {},
   "source": [
    "Data manipulation in Python is nearly synonymous with NumPy array manipulation: even newer tools like Pandas are built around the NumPy array. This section will present several examples of using NumPy array manipulation to access data and subarrays, and to split, reshape, and join the arrays. While the types of operations shown here may seem a bit dry and pedantic, they comprise the building blocks of many other examples used throughout the book. Get to know them well!"
   ]
  },
  {
   "cell_type": "markdown",
   "id": "21e41e43",
   "metadata": {},
   "source": [
    "At the implementation level, the array essentially contains a single pointer to one contiguous block of data. The Python list, on the other hand, contains a pointer to a block of pointers, each of which in turn points to a full Python object like the Python integer we saw earlier. Again, the advantage of the list is flexibility: because each list element is a full structure containing both data and type information, the list can be filled with data of any desired type. Fixed-type NumPy-style arrays lack this flexibility, but are much more efficient for storing and manipulating data."
   ]
  },
  {
   "cell_type": "markdown",
   "id": "29ab201a",
   "metadata": {},
   "source": [
    "## Fixed-Type Arrays in Python\n"
   ]
  },
  {
   "cell_type": "code",
   "execution_count": 52,
   "id": "0729c7db",
   "metadata": {},
   "outputs": [],
   "source": [
    "# We'll start with the standard NumPy import, under the alias np:\n",
    "import numpy as np"
   ]
  },
  {
   "cell_type": "code",
   "execution_count": 55,
   "id": "556e2098",
   "metadata": {},
   "outputs": [
    {
     "name": "stdout",
     "output_type": "stream",
     "text": [
      "<class 'numpy.ndarray'>\n"
     ]
    }
   ],
   "source": [
    "# integer array:\n",
    "x = np.array([1, 4, 2, 5, 3])\n",
    "\n",
    "print(type(x))\n"
   ]
  },
  {
   "cell_type": "markdown",
   "id": "433e7024",
   "metadata": {},
   "source": [
    "\n",
    "Remember that unlike Python lists, NumPy is constrained to arrays that all contain the same type. If types do not match, NumPy will upcast if possible (here, integers are up-cast to floating point):"
   ]
  },
  {
   "cell_type": "code",
   "execution_count": 45,
   "id": "1a508031",
   "metadata": {
    "scrolled": true
   },
   "outputs": [
    {
     "data": {
      "text/plain": [
       "array([3.14, 4.  , 2.  , 3.  ])"
      ]
     },
     "execution_count": 45,
     "metadata": {},
     "output_type": "execute_result"
    }
   ],
   "source": [
    "np.array([3.14, 4, 2, 3])\n"
   ]
  },
  {
   "cell_type": "markdown",
   "id": "7b509e4d",
   "metadata": {},
   "source": [
    "If we want to explicitly set the data type of the resulting array, we can use the dtype keyword:"
   ]
  },
  {
   "cell_type": "code",
   "execution_count": 56,
   "id": "703a38cd",
   "metadata": {},
   "outputs": [
    {
     "data": {
      "text/plain": [
       "array([1., 2., 3., 4.])"
      ]
     },
     "execution_count": 56,
     "metadata": {},
     "output_type": "execute_result"
    }
   ],
   "source": [
    "np.array([1, 2, 3, 4], dtype='float')"
   ]
  },
  {
   "cell_type": "markdown",
   "id": "3726a85b",
   "metadata": {},
   "source": [
    "Finally, unlike Python lists, NumPy arrays can explicitly be multi-dimensional; here's one way of initializing a multidimensional array using a list of lists:"
   ]
  },
  {
   "cell_type": "code",
   "execution_count": 176,
   "id": "9f3f57ce",
   "metadata": {},
   "outputs": [
    {
     "data": {
      "text/plain": [
       "array([[2, 3, 4],\n",
       "       [4, 5, 6],\n",
       "       [6, 7, 8]])"
      ]
     },
     "execution_count": 176,
     "metadata": {},
     "output_type": "execute_result"
    }
   ],
   "source": [
    "# nested lists result in multi-dimensional arrays\n",
    "np.array([range(i, i + 3) for i in [2, 4, 6]])"
   ]
  },
  {
   "cell_type": "markdown",
   "id": "4561a66e",
   "metadata": {},
   "source": [
    "The inner lists are treated as rows of the resulting two-dimensional array."
   ]
  },
  {
   "cell_type": "markdown",
   "id": "d8f8feb1",
   "metadata": {},
   "source": [
    "## Creating Arrays from Scratch\n"
   ]
  },
  {
   "cell_type": "markdown",
   "id": "89ae0e85",
   "metadata": {},
   "source": [
    "Especially for larger arrays, it is more efficient to create arrays from scratch using routines built into NumPy. Here are several examples:"
   ]
  },
  {
   "cell_type": "code",
   "execution_count": 177,
   "id": "9d5ed90e",
   "metadata": {},
   "outputs": [
    {
     "data": {
      "text/plain": [
       "array([0, 0, 0, 0, 0, 0, 0, 0, 0, 0])"
      ]
     },
     "execution_count": 177,
     "metadata": {},
     "output_type": "execute_result"
    }
   ],
   "source": [
    "# Create a length-10 integer array filled with zeros\n",
    "np.zeros(10, dtype=int)"
   ]
  },
  {
   "cell_type": "code",
   "execution_count": 179,
   "id": "6d84b312",
   "metadata": {},
   "outputs": [
    {
     "data": {
      "text/plain": [
       "array([0, 0, 0, 0, 0, 0, 0, 0, 0, 0])"
      ]
     },
     "execution_count": 179,
     "metadata": {},
     "output_type": "execute_result"
    }
   ],
   "source": [
    "# Create a length-10 integer array filled with zeros\n",
    "np.zeros(10, dtype=int)"
   ]
  },
  {
   "cell_type": "code",
   "execution_count": 57,
   "id": "29a71aaa",
   "metadata": {},
   "outputs": [
    {
     "data": {
      "text/plain": [
       "array([[1., 1., 1., 1., 1.],\n",
       "       [1., 1., 1., 1., 1.],\n",
       "       [1., 1., 1., 1., 1.]])"
      ]
     },
     "execution_count": 57,
     "metadata": {},
     "output_type": "execute_result"
    }
   ],
   "source": [
    "# Create a 3x5 floating-point array filled with ones\n",
    "np.ones(shape=(3, 5), dtype=float)"
   ]
  },
  {
   "cell_type": "code",
   "execution_count": 59,
   "id": "b1cbe09f",
   "metadata": {},
   "outputs": [
    {
     "data": {
      "text/plain": [
       "array([[3.14, 3.14, 3.14, 3.14, 3.14],\n",
       "       [3.14, 3.14, 3.14, 3.14, 3.14],\n",
       "       [3.14, 3.14, 3.14, 3.14, 3.14]])"
      ]
     },
     "execution_count": 59,
     "metadata": {},
     "output_type": "execute_result"
    }
   ],
   "source": [
    "# Create a 3x5 array filled with 3.14\n",
    "np.full((3, 5), 3.14)"
   ]
  },
  {
   "cell_type": "code",
   "execution_count": 181,
   "id": "d19937ea",
   "metadata": {},
   "outputs": [
    {
     "data": {
      "text/plain": [
       "array([ 0,  2,  4,  6,  8, 10, 12, 14, 16, 18])"
      ]
     },
     "execution_count": 181,
     "metadata": {},
     "output_type": "execute_result"
    }
   ],
   "source": [
    "# Create an array filled with a linear sequence\n",
    "# Starting at 0, ending at 20, stepping by 2\n",
    "# (this is similar to the built-in range() function)\n",
    "np.arange(0, 20, 2)"
   ]
  },
  {
   "cell_type": "code",
   "execution_count": 182,
   "id": "f4da8324",
   "metadata": {},
   "outputs": [
    {
     "data": {
      "text/plain": [
       "array([0.  , 0.25, 0.5 , 0.75, 1.  ])"
      ]
     },
     "execution_count": 182,
     "metadata": {},
     "output_type": "execute_result"
    }
   ],
   "source": [
    "# Create an array of five values evenly spaced between 0 and 1\n",
    "np.linspace(0, 1, 5)"
   ]
  },
  {
   "cell_type": "code",
   "execution_count": 183,
   "id": "eb268484",
   "metadata": {},
   "outputs": [
    {
     "data": {
      "text/plain": [
       "array([[0.98069967, 0.40612049, 0.56921076],\n",
       "       [0.3436055 , 0.78887278, 0.41137241],\n",
       "       [0.35927142, 0.39949891, 0.30183088]])"
      ]
     },
     "execution_count": 183,
     "metadata": {},
     "output_type": "execute_result"
    }
   ],
   "source": [
    "# Create a 3x3 array of uniformly distributed\n",
    "# random values between 0 and 1\n",
    "np.random.random((3, 3))"
   ]
  },
  {
   "cell_type": "code",
   "execution_count": 184,
   "id": "f94517c8",
   "metadata": {},
   "outputs": [
    {
     "data": {
      "text/plain": [
       "array([[ 0.3212809 , -0.12393044,  0.02212126],\n",
       "       [-0.32128651,  0.69261805, -0.35352352],\n",
       "       [ 0.81228996, -1.14178779, -0.28754879]])"
      ]
     },
     "execution_count": 184,
     "metadata": {},
     "output_type": "execute_result"
    }
   ],
   "source": [
    "# Create a 3x3 array of normally distributed random values\n",
    "# with mean 0 and standard deviation [-1, 1]\n",
    "np.random.normal(0, 1, (3, 3))"
   ]
  },
  {
   "cell_type": "code",
   "execution_count": 185,
   "id": "c4e8bd8d",
   "metadata": {},
   "outputs": [
    {
     "data": {
      "text/plain": [
       "array([[5, 6, 3],\n",
       "       [2, 9, 8],\n",
       "       [1, 4, 0]])"
      ]
     },
     "execution_count": 185,
     "metadata": {},
     "output_type": "execute_result"
    }
   ],
   "source": [
    "# Create a 3x3 array of random integers in the interval [0, 10)\n",
    "np.random.randint(0, 10, (3, 3))"
   ]
  },
  {
   "cell_type": "code",
   "execution_count": 186,
   "id": "953fe6de",
   "metadata": {},
   "outputs": [
    {
     "data": {
      "text/plain": [
       "array([[1., 0., 0.],\n",
       "       [0., 1., 0.],\n",
       "       [0., 0., 1.]])"
      ]
     },
     "execution_count": 186,
     "metadata": {},
     "output_type": "execute_result"
    }
   ],
   "source": [
    "# Create a 3x3 identity matrix\n",
    "np.eye(3)"
   ]
  },
  {
   "cell_type": "code",
   "execution_count": 65,
   "id": "7e59f062",
   "metadata": {},
   "outputs": [
    {
     "name": "stdout",
     "output_type": "stream",
     "text": [
      "(5, 3)\n"
     ]
    }
   ],
   "source": [
    "# Create an uninitialized array of three integers\n",
    "# The values will be whatever happens to already exist at that memory location\n",
    "x = np.empty((5,3))\n",
    "\n",
    "print(x.shape)"
   ]
  },
  {
   "cell_type": "markdown",
   "id": "1aa1c142",
   "metadata": {},
   "source": [
    "# NumPy Array Attributes"
   ]
  },
  {
   "cell_type": "markdown",
   "id": "a2e9cc28",
   "metadata": {},
   "source": [
    "We will first start with the basics. Let's defined three random arrays, one-dimensional, a two dimensional and a three-dimensional array. We will use the inbuilt function in Numpy for random number generator. We will use seed with a set value in order to ensure that the same random arrays are generated each time the code is run:"
   ]
  },
  {
   "cell_type": "code",
   "execution_count": 13,
   "id": "3f984240",
   "metadata": {},
   "outputs": [
    {
     "name": "stdout",
     "output_type": "stream",
     "text": [
      "[[[8 1 5 9 8]\n",
      "  [9 4 3 0 3]\n",
      "  [5 0 2 3 8]\n",
      "  [1 3 3 3 7]]\n",
      "\n",
      " [[0 1 9 9 0]\n",
      "  [4 7 3 2 7]\n",
      "  [2 0 0 4 5]\n",
      "  [5 6 8 4 1]]\n",
      "\n",
      " [[4 9 8 1 1]\n",
      "  [7 9 9 3 6]\n",
      "  [7 2 0 3 5]\n",
      "  [9 4 4 6 4]]]\n"
     ]
    }
   ],
   "source": [
    "import numpy as np\n",
    "np.random.seed(0)  # seed for reproducibility\n",
    "x1 = np.random.randint(10, size=6)  # One-dimensional array\n",
    "x2 = np.random.randint(10, size=(3, 4))  # Two-dimensional array\n",
    "x3 = np.random.randint(10, size=(3, 4, 5))  # Three-dimensional array\n",
    "print(f\"{x3}\")"
   ]
  },
  {
   "cell_type": "code",
   "execution_count": 70,
   "id": "4bb2f465",
   "metadata": {},
   "outputs": [
    {
     "name": "stdout",
     "output_type": "stream",
     "text": [
      "x3 ndim:  3\n",
      "x3 shape: (3, 4, 5)\n",
      "x3 size:  60\n"
     ]
    }
   ],
   "source": [
    "# Each array has attributes ndim (the number of dimensions), shape (the size of each dimension), \n",
    "#and size (the total size of the array):\n",
    "print(\"x3 ndim: \", x3.ndim)\n",
    "print(\"x3 shape:\", x3.shape)\n",
    "print(\"x3 size: \", x3.size)"
   ]
  },
  {
   "cell_type": "code",
   "execution_count": 52,
   "id": "33f24db9",
   "metadata": {},
   "outputs": [
    {
     "name": "stdout",
     "output_type": "stream",
     "text": [
      "dtype: int64\n"
     ]
    }
   ],
   "source": [
    "print(\"dtype:\",x3.dtype)"
   ]
  },
  {
   "cell_type": "markdown",
   "id": "d660e171",
   "metadata": {},
   "source": [
    "Other attributes include itemsize, which lists the size (in bytes) of each array element, and nbytes, which lists the total size (in bytes) of the array:"
   ]
  },
  {
   "cell_type": "code",
   "execution_count": 71,
   "id": "c789ce0e",
   "metadata": {},
   "outputs": [
    {
     "name": "stdout",
     "output_type": "stream",
     "text": [
      "itemsize 8 bytes\n",
      "itemsize 480 bytes\n"
     ]
    }
   ],
   "source": [
    "print(\"itemsize\",x3.itemsize,\"bytes\")\n",
    "print(\"itemsize\",x3.nbytes,\"bytes\")"
   ]
  },
  {
   "cell_type": "markdown",
   "id": "046b4d8a",
   "metadata": {},
   "source": [
    "In general, we expect that nbytes is equal to itemsize times size."
   ]
  },
  {
   "cell_type": "markdown",
   "id": "52086df7",
   "metadata": {},
   "source": [
    "## Indexing: Accessing elements within an Array"
   ]
  },
  {
   "cell_type": "code",
   "execution_count": 72,
   "id": "14b04e0d",
   "metadata": {},
   "outputs": [
    {
     "name": "stdout",
     "output_type": "stream",
     "text": [
      "[ 5  2  6  2 10  4]\n"
     ]
    }
   ],
   "source": [
    "x1=np.array([5,2,6,2,10,4])\n",
    "print(x1)"
   ]
  },
  {
   "cell_type": "code",
   "execution_count": 73,
   "id": "713c7328",
   "metadata": {},
   "outputs": [
    {
     "data": {
      "text/plain": [
       "5"
      ]
     },
     "execution_count": 73,
     "metadata": {},
     "output_type": "execute_result"
    }
   ],
   "source": [
    "x1[0]"
   ]
  },
  {
   "cell_type": "code",
   "execution_count": 74,
   "id": "98c08ad5",
   "metadata": {},
   "outputs": [
    {
     "data": {
      "text/plain": [
       "10"
      ]
     },
     "execution_count": 74,
     "metadata": {},
     "output_type": "execute_result"
    }
   ],
   "source": [
    "x1[-2]"
   ]
  },
  {
   "cell_type": "code",
   "execution_count": 75,
   "id": "b2e39312",
   "metadata": {},
   "outputs": [
    {
     "data": {
      "text/plain": [
       "4"
      ]
     },
     "execution_count": 75,
     "metadata": {},
     "output_type": "execute_result"
    }
   ],
   "source": [
    "x1[-1]"
   ]
  },
  {
   "cell_type": "code",
   "execution_count": 76,
   "id": "32d77628",
   "metadata": {},
   "outputs": [],
   "source": [
    "x2=np.array([[2,3,5],[3,1,2],[4,5,2]])"
   ]
  },
  {
   "cell_type": "code",
   "execution_count": 11,
   "id": "9bed73f8",
   "metadata": {},
   "outputs": [
    {
     "data": {
      "text/plain": [
       "array([[2, 3, 5],\n",
       "       [3, 1, 2],\n",
       "       [4, 5, 2]])"
      ]
     },
     "execution_count": 11,
     "metadata": {},
     "output_type": "execute_result"
    }
   ],
   "source": [
    "x2"
   ]
  },
  {
   "cell_type": "code",
   "execution_count": 77,
   "id": "c532fca6",
   "metadata": {},
   "outputs": [
    {
     "data": {
      "text/plain": [
       "2"
      ]
     },
     "execution_count": 77,
     "metadata": {},
     "output_type": "execute_result"
    }
   ],
   "source": [
    "x2[0, 0]"
   ]
  },
  {
   "cell_type": "code",
   "execution_count": 78,
   "id": "b8c73a52",
   "metadata": {},
   "outputs": [
    {
     "data": {
      "text/plain": [
       "5"
      ]
     },
     "execution_count": 78,
     "metadata": {},
     "output_type": "execute_result"
    }
   ],
   "source": [
    "x2[0,2]"
   ]
  },
  {
   "cell_type": "code",
   "execution_count": 79,
   "id": "a19c0d91",
   "metadata": {},
   "outputs": [
    {
     "data": {
      "text/plain": [
       "4"
      ]
     },
     "execution_count": 79,
     "metadata": {},
     "output_type": "execute_result"
    }
   ],
   "source": [
    "x2[2,0]"
   ]
  },
  {
   "cell_type": "code",
   "execution_count": 80,
   "id": "bdb7c06c",
   "metadata": {},
   "outputs": [],
   "source": [
    "x2[0, 0] = 12"
   ]
  },
  {
   "cell_type": "code",
   "execution_count": 16,
   "id": "45ffad5b",
   "metadata": {},
   "outputs": [
    {
     "data": {
      "text/plain": [
       "array([[12,  3,  5],\n",
       "       [ 3,  1,  2],\n",
       "       [ 4,  5,  2]])"
      ]
     },
     "execution_count": 16,
     "metadata": {},
     "output_type": "execute_result"
    }
   ],
   "source": [
    "x2"
   ]
  },
  {
   "cell_type": "markdown",
   "id": "0856c77b",
   "metadata": {},
   "source": [
    "Keep in mind that, unlike Python lists, NumPy arrays have a fixed type. This means, for example, that if you attempt to insert a floating-point value to an integer array, the value will be silently truncated. So be careful with this!!"
   ]
  },
  {
   "cell_type": "code",
   "execution_count": 17,
   "id": "4e23f56d",
   "metadata": {},
   "outputs": [
    {
     "data": {
      "text/plain": [
       "array([ 3,  2,  6,  2, 10,  4])"
      ]
     },
     "execution_count": 17,
     "metadata": {},
     "output_type": "execute_result"
    }
   ],
   "source": [
    "x1[0] = 3.14159  # this will be truncated!\n",
    "x1"
   ]
  },
  {
   "cell_type": "markdown",
   "id": "cda2e5c4",
   "metadata": {},
   "source": [
    "## Array Slicing"
   ]
  },
  {
   "cell_type": "markdown",
   "id": "b1b2147b",
   "metadata": {},
   "source": [
    "Just as we can use square brackets to access individual array elements, we can also use them to access subarrays with the slice notation, marked by the colon (:) character. The NumPy slicing syntax follows that of the standard Python list; to access a slice of an array x, use this:\n",
    "\n",
    "    x[start:stop:step]\n",
    "\n",
    "If any of these are unspecified, they default to the values start=0, stop=size of dimension, step=1. We'll take a look at accessing sub-arrays in one dimension and in multiple dimensions."
   ]
  },
  {
   "cell_type": "code",
   "execution_count": 14,
   "id": "d7c5c97e",
   "metadata": {},
   "outputs": [
    {
     "data": {
      "text/plain": [
       "array([0, 1, 2, 3, 4, 5, 6, 7, 8, 9])"
      ]
     },
     "execution_count": 14,
     "metadata": {},
     "output_type": "execute_result"
    }
   ],
   "source": [
    "x = np.arange(10)\n",
    "x"
   ]
  },
  {
   "cell_type": "code",
   "execution_count": 15,
   "id": "7639d9d6",
   "metadata": {},
   "outputs": [
    {
     "data": {
      "text/plain": [
       "array([0, 1, 2, 3, 4])"
      ]
     },
     "execution_count": 15,
     "metadata": {},
     "output_type": "execute_result"
    }
   ],
   "source": [
    "x[:5]  # first five elements"
   ]
  },
  {
   "cell_type": "code",
   "execution_count": 20,
   "id": "455c14e7",
   "metadata": {},
   "outputs": [
    {
     "data": {
      "text/plain": [
       "array([5, 6, 7, 8, 9])"
      ]
     },
     "execution_count": 20,
     "metadata": {},
     "output_type": "execute_result"
    }
   ],
   "source": [
    "x[5:]  # elements after index 5"
   ]
  },
  {
   "cell_type": "code",
   "execution_count": 21,
   "id": "de7d9528",
   "metadata": {},
   "outputs": [
    {
     "data": {
      "text/plain": [
       "array([4, 5, 6])"
      ]
     },
     "execution_count": 21,
     "metadata": {},
     "output_type": "execute_result"
    }
   ],
   "source": [
    "x[4:7]  # middle sub-array"
   ]
  },
  {
   "cell_type": "code",
   "execution_count": 22,
   "id": "5c8c2020",
   "metadata": {},
   "outputs": [
    {
     "data": {
      "text/plain": [
       "array([4, 5, 6])"
      ]
     },
     "execution_count": 22,
     "metadata": {},
     "output_type": "execute_result"
    }
   ],
   "source": [
    "x[4:7]  # middle sub-array"
   ]
  },
  {
   "cell_type": "code",
   "execution_count": 23,
   "id": "b26c0fa6",
   "metadata": {},
   "outputs": [
    {
     "data": {
      "text/plain": [
       "array([0, 2, 4, 6, 8])"
      ]
     },
     "execution_count": 23,
     "metadata": {},
     "output_type": "execute_result"
    }
   ],
   "source": [
    "x[::2]  # every other element"
   ]
  },
  {
   "cell_type": "code",
   "execution_count": 24,
   "id": "3b5629f2",
   "metadata": {},
   "outputs": [
    {
     "data": {
      "text/plain": [
       "array([1, 3, 5, 7, 9])"
      ]
     },
     "execution_count": 24,
     "metadata": {},
     "output_type": "execute_result"
    }
   ],
   "source": [
    "x[1::2]  # every other element, starting at index 1"
   ]
  },
  {
   "cell_type": "code",
   "execution_count": 25,
   "id": "fd4b8f30",
   "metadata": {},
   "outputs": [
    {
     "data": {
      "text/plain": [
       "array([9, 8, 7, 6, 5, 4, 3, 2, 1, 0])"
      ]
     },
     "execution_count": 25,
     "metadata": {},
     "output_type": "execute_result"
    }
   ],
   "source": [
    "x[::-1]  # all elements, reversed"
   ]
  },
  {
   "cell_type": "code",
   "execution_count": 26,
   "id": "13338141",
   "metadata": {},
   "outputs": [
    {
     "data": {
      "text/plain": [
       "array([5, 3, 1])"
      ]
     },
     "execution_count": 26,
     "metadata": {},
     "output_type": "execute_result"
    }
   ],
   "source": [
    "x[5::-2]  # reversed every other from index 5"
   ]
  },
  {
   "cell_type": "markdown",
   "id": "d386f4a2",
   "metadata": {},
   "source": [
    "### Multi-dimensional subarrays\n"
   ]
  },
  {
   "cell_type": "code",
   "execution_count": 16,
   "id": "307c061d",
   "metadata": {},
   "outputs": [
    {
     "data": {
      "text/plain": [
       "array([[3, 5, 2, 4],\n",
       "       [7, 6, 8, 8],\n",
       "       [1, 6, 7, 7]])"
      ]
     },
     "execution_count": 16,
     "metadata": {},
     "output_type": "execute_result"
    }
   ],
   "source": [
    "x2"
   ]
  },
  {
   "cell_type": "code",
   "execution_count": 17,
   "id": "d4369c55",
   "metadata": {},
   "outputs": [
    {
     "data": {
      "text/plain": [
       "array([[3, 5, 2],\n",
       "       [7, 6, 8]])"
      ]
     },
     "execution_count": 17,
     "metadata": {},
     "output_type": "execute_result"
    }
   ],
   "source": [
    "x2[:2, :3]  # two rows, three columns"
   ]
  },
  {
   "cell_type": "code",
   "execution_count": 18,
   "id": "4beecb5f",
   "metadata": {},
   "outputs": [
    {
     "data": {
      "text/plain": [
       "array([[3, 2],\n",
       "       [7, 8],\n",
       "       [1, 7]])"
      ]
     },
     "execution_count": 18,
     "metadata": {},
     "output_type": "execute_result"
    }
   ],
   "source": [
    "x2[:3, ::2]  # all rows, every other column"
   ]
  },
  {
   "cell_type": "code",
   "execution_count": 19,
   "id": "18afb21e",
   "metadata": {},
   "outputs": [
    {
     "data": {
      "text/plain": [
       "array([[7, 7, 6, 1],\n",
       "       [8, 8, 6, 7],\n",
       "       [4, 2, 5, 3]])"
      ]
     },
     "execution_count": 19,
     "metadata": {},
     "output_type": "execute_result"
    }
   ],
   "source": [
    "x2[::-1, ::-1] # Subarray dimensions reversed together"
   ]
  },
  {
   "cell_type": "markdown",
   "id": "98455d69",
   "metadata": {},
   "source": [
    "Accessing rows and columns of arrays"
   ]
  },
  {
   "cell_type": "code",
   "execution_count": 31,
   "id": "7f13cd6a",
   "metadata": {},
   "outputs": [
    {
     "name": "stdout",
     "output_type": "stream",
     "text": [
      "[12  3  4]\n"
     ]
    }
   ],
   "source": [
    "print(x2[:, 0])  # first column of x2"
   ]
  },
  {
   "cell_type": "code",
   "execution_count": 32,
   "id": "2e1cc21f",
   "metadata": {},
   "outputs": [
    {
     "name": "stdout",
     "output_type": "stream",
     "text": [
      "[12  3  5]\n"
     ]
    }
   ],
   "source": [
    "print(x2[0, :])  # first row of x2"
   ]
  },
  {
   "cell_type": "code",
   "execution_count": 33,
   "id": "c7d5079b",
   "metadata": {},
   "outputs": [
    {
     "name": "stdout",
     "output_type": "stream",
     "text": [
      "[12  3  5]\n"
     ]
    }
   ],
   "source": [
    "print(x2[0])  # equivalent to x2[0, :]"
   ]
  },
  {
   "cell_type": "markdown",
   "id": "7f363a17",
   "metadata": {},
   "source": [
    "### Subarrays as no-copy views\n"
   ]
  },
  {
   "cell_type": "markdown",
   "id": "eb96840b",
   "metadata": {},
   "source": [
    "One important–and extremely useful–thing to know about array slices is that they return views rather than copies of the array data. This is one area in which NumPy array slicing differs from Python list slicing: in lists, slices will be copies. Consider our two-dimensional array from before:"
   ]
  },
  {
   "cell_type": "code",
   "execution_count": 19,
   "id": "aa520aa1",
   "metadata": {},
   "outputs": [
    {
     "name": "stdout",
     "output_type": "stream",
     "text": [
      "[[3 5 2 4]\n",
      " [7 6 8 8]\n",
      " [1 6 7 7]]\n"
     ]
    }
   ],
   "source": [
    "print(x2)"
   ]
  },
  {
   "cell_type": "code",
   "execution_count": 20,
   "id": "622f08a7",
   "metadata": {},
   "outputs": [
    {
     "name": "stdout",
     "output_type": "stream",
     "text": [
      "[[3 5]\n",
      " [7 6]]\n"
     ]
    }
   ],
   "source": [
    "x2_sub = x2[:2, :2]\n",
    "print(x2_sub)"
   ]
  },
  {
   "cell_type": "code",
   "execution_count": 21,
   "id": "17c7054c",
   "metadata": {},
   "outputs": [
    {
     "name": "stdout",
     "output_type": "stream",
     "text": [
      "[[99  5]\n",
      " [ 7  6]]\n"
     ]
    }
   ],
   "source": [
    "x2_sub[0, 0] = 99\n",
    "print(x2_sub)"
   ]
  },
  {
   "cell_type": "code",
   "execution_count": 38,
   "id": "ecda9d32",
   "metadata": {},
   "outputs": [
    {
     "name": "stdout",
     "output_type": "stream",
     "text": [
      "[[99  3  5]\n",
      " [ 3  1  2]\n",
      " [ 4  5  2]]\n"
     ]
    }
   ],
   "source": [
    "print(x2)"
   ]
  },
  {
   "cell_type": "markdown",
   "id": "ea4fd1ff",
   "metadata": {},
   "source": [
    "\n",
    "This default behavior is actually quite useful: it means that when we work with large datasets, we can access and process pieces of these datasets without the need to copy the underlying data buffer."
   ]
  },
  {
   "cell_type": "markdown",
   "id": "40b95405",
   "metadata": {},
   "source": [
    "### Creating copies of arrays\n"
   ]
  },
  {
   "cell_type": "markdown",
   "id": "12b994b5",
   "metadata": {},
   "source": [
    "Despite the nice features of array views, it is sometimes useful to instead explicitly copy the data within an array or a subarray. This can be most easily done with the copy() method:"
   ]
  },
  {
   "cell_type": "code",
   "execution_count": 42,
   "id": "52c478ae",
   "metadata": {},
   "outputs": [
    {
     "name": "stdout",
     "output_type": "stream",
     "text": [
      "[[99  3]\n",
      " [ 3  1]]\n"
     ]
    }
   ],
   "source": [
    "x2_sub_copy = x2[:2, :2].copy()\n",
    "print(x2_sub_copy)"
   ]
  },
  {
   "cell_type": "code",
   "execution_count": 43,
   "id": "1b4ffa24",
   "metadata": {},
   "outputs": [
    {
     "name": "stdout",
     "output_type": "stream",
     "text": [
      "[[42  3]\n",
      " [ 3  1]]\n"
     ]
    }
   ],
   "source": [
    "x2_sub_copy[0, 0] = 42\n",
    "print(x2_sub_copy)"
   ]
  },
  {
   "cell_type": "code",
   "execution_count": 44,
   "id": "f5cf14f0",
   "metadata": {},
   "outputs": [
    {
     "name": "stdout",
     "output_type": "stream",
     "text": [
      "[[99  3  5]\n",
      " [ 3  1  2]\n",
      " [ 4  5  2]]\n"
     ]
    }
   ],
   "source": [
    "print(x2)"
   ]
  },
  {
   "cell_type": "markdown",
   "id": "47c21134",
   "metadata": {},
   "source": [
    "### Reshaping arrays"
   ]
  },
  {
   "cell_type": "markdown",
   "id": "b055fcfb",
   "metadata": {},
   "source": [
    "Another useful type of operation is reshaping of arrays. The most flexible way of doing this is with the reshape method. For example, if you want to put the numbers 1 through 9 in a $3 \\times 3$ grid, you can do the following:"
   ]
  },
  {
   "cell_type": "code",
   "execution_count": 87,
   "id": "d7f16131",
   "metadata": {},
   "outputs": [
    {
     "name": "stdout",
     "output_type": "stream",
     "text": [
      "[[ 1  2  3  4]\n",
      " [ 5  6  7  8]\n",
      " [ 9 10 11 12]\n",
      " [13 14 15 16]]\n"
     ]
    },
    {
     "data": {
      "text/plain": [
       "array([[ 1,  2],\n",
       "       [ 3,  4],\n",
       "       [ 5,  6],\n",
       "       [ 7,  8],\n",
       "       [ 9, 10],\n",
       "       [11, 12],\n",
       "       [13, 14],\n",
       "       [15, 16]])"
      ]
     },
     "execution_count": 87,
     "metadata": {},
     "output_type": "execute_result"
    }
   ],
   "source": [
    "grid = np.arange(1, 17).reshape((4, 4))\n",
    "print(grid)\n",
    "\n",
    "grid.reshape(8, 2)\n",
    "\n"
   ]
  },
  {
   "cell_type": "markdown",
   "id": "dff23167",
   "metadata": {},
   "source": [
    "Note that for this to work, the size of the initial array must match the size of the reshaped array. "
   ]
  },
  {
   "cell_type": "markdown",
   "id": "57c71c14",
   "metadata": {},
   "source": [
    "Another common reshaping pattern is the conversion of a one-dimensional array into a two-dimensional row or column matrix. This can be done with the reshape method, or more easily done by making use of the newaxis keyword within a slice operation:"
   ]
  },
  {
   "cell_type": "code",
   "execution_count": 47,
   "id": "49da8289",
   "metadata": {},
   "outputs": [
    {
     "data": {
      "text/plain": [
       "array([[1, 2, 3]])"
      ]
     },
     "execution_count": 47,
     "metadata": {},
     "output_type": "execute_result"
    }
   ],
   "source": [
    "x = np.array([1, 2, 3])\n",
    "\n",
    "# row vector via reshape\n",
    "x.reshape((1, 3))"
   ]
  },
  {
   "cell_type": "code",
   "execution_count": 48,
   "id": "afb5f68d",
   "metadata": {},
   "outputs": [
    {
     "data": {
      "text/plain": [
       "array([[1],\n",
       "       [2],\n",
       "       [3]])"
      ]
     },
     "execution_count": 48,
     "metadata": {},
     "output_type": "execute_result"
    }
   ],
   "source": [
    "# column vector via reshape\n",
    "x.reshape((3, 1))"
   ]
  },
  {
   "cell_type": "markdown",
   "id": "d26e00bb",
   "metadata": {},
   "source": [
    "## Array concatenation and splitting"
   ]
  },
  {
   "cell_type": "markdown",
   "id": "e6de06d0",
   "metadata": {},
   "source": [
    "All of the preceding routines worked on single arrays. It's also possible to combine multiple arrays into one, and to conversely split a single array into multiple arrays. We'll take a look at those operations here."
   ]
  },
  {
   "cell_type": "markdown",
   "id": "306c786a",
   "metadata": {},
   "source": [
    "### Concatenation of arrays"
   ]
  },
  {
   "cell_type": "markdown",
   "id": "e4c334d0",
   "metadata": {},
   "source": [
    "Concatenation, or joining of two arrays in NumPy, is primarily accomplished using the routines np.concatenate, np.vstack, and np.hstack. np.concatenate takes a tuple or list of arrays as its first argument, as we can see here:"
   ]
  },
  {
   "cell_type": "code",
   "execution_count": 95,
   "id": "b4d71ef7",
   "metadata": {},
   "outputs": [
    {
     "data": {
      "text/plain": [
       "array([1, 2, 3, 3, 2, 1])"
      ]
     },
     "execution_count": 95,
     "metadata": {},
     "output_type": "execute_result"
    }
   ],
   "source": [
    "x = np.array([1, 2, 3])\n",
    "y = np.array([3, 2, 1])\n",
    "np.concatenate([x, y], axis=0)"
   ]
  },
  {
   "cell_type": "code",
   "execution_count": 26,
   "id": "d92a3627",
   "metadata": {},
   "outputs": [
    {
     "name": "stdout",
     "output_type": "stream",
     "text": [
      "[ 1  2  3  3  2  1 99 99 99]\n"
     ]
    }
   ],
   "source": [
    "z = [99, 99, 99] #You can also concatenate more than two arrays at once\n",
    "print(np.concatenate([x, y, z], axis=0))"
   ]
  },
  {
   "cell_type": "code",
   "execution_count": 28,
   "id": "bab035ee",
   "metadata": {},
   "outputs": [],
   "source": [
    "grid = np.array([[1, 2, 3],\n",
    "                 [4, 5, 6]])"
   ]
  },
  {
   "cell_type": "code",
   "execution_count": 33,
   "id": "cd0ed476",
   "metadata": {},
   "outputs": [
    {
     "data": {
      "text/plain": [
       "array([[1, 2, 3],\n",
       "       [4, 5, 6],\n",
       "       [1, 2, 3],\n",
       "       [4, 5, 6]])"
      ]
     },
     "execution_count": 33,
     "metadata": {},
     "output_type": "execute_result"
    }
   ],
   "source": [
    "# concatenate along the first axis\n",
    "np.concatenate([grid, grid], axis=0)"
   ]
  },
  {
   "cell_type": "code",
   "execution_count": 88,
   "id": "7c89a243",
   "metadata": {},
   "outputs": [
    {
     "data": {
      "text/plain": [
       "array([[1, 2, 3, 1, 2, 3],\n",
       "       [4, 5, 6, 4, 5, 6]])"
      ]
     },
     "execution_count": 88,
     "metadata": {},
     "output_type": "execute_result"
    }
   ],
   "source": [
    "# concatenate along the second axis (zero-indexed)\n",
    "grid = np.array([[1, 2, 3],\n",
    "                 [4, 5, 6]])\n",
    "\n",
    "np.concatenate([grid, grid], axis=1)"
   ]
  },
  {
   "cell_type": "code",
   "execution_count": 34,
   "id": "4474a82e",
   "metadata": {},
   "outputs": [
    {
     "data": {
      "text/plain": [
       "array([[1, 2, 3],\n",
       "       [9, 8, 7],\n",
       "       [6, 5, 4]])"
      ]
     },
     "execution_count": 34,
     "metadata": {},
     "output_type": "execute_result"
    }
   ],
   "source": [
    "x = np.array([1, 2, 3])\n",
    "grid = np.array([[9, 8, 7],\n",
    "                 [6, 5, 4]])\n",
    "\n",
    "# vertically stack the arrays\n",
    "np.vstack([x, grid])"
   ]
  },
  {
   "cell_type": "code",
   "execution_count": 56,
   "id": "16354a8f",
   "metadata": {},
   "outputs": [
    {
     "data": {
      "text/plain": [
       "array([[ 9,  8,  7, 99],\n",
       "       [ 6,  5,  4, 99]])"
      ]
     },
     "execution_count": 56,
     "metadata": {},
     "output_type": "execute_result"
    }
   ],
   "source": [
    "# horizontally stack the arrays\n",
    "y = np.array([[99],\n",
    "              [99]])\n",
    "np.hstack([grid, y])"
   ]
  },
  {
   "cell_type": "markdown",
   "id": "ac696747",
   "metadata": {},
   "source": [
    "### Splitting Arrays\n"
   ]
  },
  {
   "cell_type": "markdown",
   "id": "26aceeeb",
   "metadata": {},
   "source": [
    "We can also do the opposite of concatenation and split the array instead. This can be done by implementing functions np.split, np.hsplit, np.vsplit. "
   ]
  },
  {
   "cell_type": "code",
   "execution_count": 28,
   "id": "6e63b4b6",
   "metadata": {},
   "outputs": [
    {
     "name": "stdout",
     "output_type": "stream",
     "text": [
      "(8,)\n",
      "(8, 1)\n"
     ]
    }
   ],
   "source": [
    "x = np.arange(0, 8)\n",
    "print(x.shape)\n",
    "x_split = np.split(x, 8)\n",
    "x_sp_np = np.array(x_split)\n",
    "print(x_sp_np.shape)"
   ]
  },
  {
   "cell_type": "code",
   "execution_count": 29,
   "id": "67c3f7c6",
   "metadata": {},
   "outputs": [
    {
     "name": "stdout",
     "output_type": "stream",
     "text": [
      "(8,)\n",
      "[1 2 3] [99 99] [3 2 1]\n"
     ]
    }
   ],
   "source": [
    "x = np.array([1, 2, 3, 99, 99, 3, 2, 1])\n",
    "x1, x2, x3 = np.split(x, [3, 5])\n",
    "print(x.shape)\n",
    "print(x1, x2, x3)\n",
    "\n"
   ]
  },
  {
   "cell_type": "markdown",
   "id": "b0fa78c2",
   "metadata": {},
   "source": [
    "The related functions np.hsplit and np.vsplit are similar:\n",
    "\n"
   ]
  },
  {
   "cell_type": "code",
   "execution_count": 59,
   "id": "3feec40c",
   "metadata": {},
   "outputs": [
    {
     "data": {
      "text/plain": [
       "array([[ 0,  1,  2,  3],\n",
       "       [ 4,  5,  6,  7],\n",
       "       [ 8,  9, 10, 11],\n",
       "       [12, 13, 14, 15]])"
      ]
     },
     "execution_count": 59,
     "metadata": {},
     "output_type": "execute_result"
    }
   ],
   "source": [
    "grid = np.arange(16).reshape((4, 4))\n",
    "grid"
   ]
  },
  {
   "cell_type": "code",
   "execution_count": 60,
   "id": "ccf36801",
   "metadata": {},
   "outputs": [
    {
     "name": "stdout",
     "output_type": "stream",
     "text": [
      "[[0 1 2 3]\n",
      " [4 5 6 7]]\n",
      "[[ 8  9 10 11]\n",
      " [12 13 14 15]]\n"
     ]
    }
   ],
   "source": [
    "upper, lower = np.vsplit(grid, [2])\n",
    "print(upper)\n",
    "print(lower)"
   ]
  },
  {
   "cell_type": "code",
   "execution_count": 61,
   "id": "76ddafe6",
   "metadata": {},
   "outputs": [
    {
     "name": "stdout",
     "output_type": "stream",
     "text": [
      "[[ 0  1]\n",
      " [ 4  5]\n",
      " [ 8  9]\n",
      " [12 13]]\n",
      "[[ 2  3]\n",
      " [ 6  7]\n",
      " [10 11]\n",
      " [14 15]]\n"
     ]
    }
   ],
   "source": [
    "left, right = np.hsplit(grid, [2])\n",
    "print(left)\n",
    "print(right)"
   ]
  },
  {
   "cell_type": "markdown",
   "id": "7644b388",
   "metadata": {},
   "source": [
    "# Fancy Indexing\n"
   ]
  },
  {
   "cell_type": "markdown",
   "id": "51aacb27",
   "metadata": {},
   "source": [
    "Fancy indexing is conceptually simple: it means passing an array of indices to access multiple array elements at once. For example, consider the following array:"
   ]
  },
  {
   "cell_type": "code",
   "execution_count": 31,
   "id": "1d0787c1",
   "metadata": {},
   "outputs": [
    {
     "name": "stdout",
     "output_type": "stream",
     "text": [
      "[138 128 114 142 107 120 138 118 122 110]\n"
     ]
    }
   ],
   "source": [
    "import numpy as np\n",
    "rand = np.random.RandomState(42)\n",
    "# Return Random Numbers from discrete uniform distributions \n",
    "x = rand.randint(100,high=None,size=10)\n",
    "print(x)"
   ]
  },
  {
   "cell_type": "markdown",
   "id": "ca048b9c",
   "metadata": {},
   "source": [
    "Suppose we want to access three different elements. We could do it like this:"
   ]
  },
  {
   "cell_type": "code",
   "execution_count": 65,
   "id": "c0fbf1ad",
   "metadata": {},
   "outputs": [
    {
     "data": {
      "text/plain": [
       "[71, 86, 14]"
      ]
     },
     "execution_count": 65,
     "metadata": {},
     "output_type": "execute_result"
    }
   ],
   "source": [
    "[x[3], x[7], x[2]]"
   ]
  },
  {
   "cell_type": "markdown",
   "id": "4505216d",
   "metadata": {},
   "source": [
    "Alternatively, we can pass a single list or array of indices to obtain the same result:"
   ]
  },
  {
   "cell_type": "code",
   "execution_count": 66,
   "id": "49d884bb",
   "metadata": {},
   "outputs": [
    {
     "data": {
      "text/plain": [
       "array([71, 86, 60])"
      ]
     },
     "execution_count": 66,
     "metadata": {},
     "output_type": "execute_result"
    }
   ],
   "source": [
    "ind = [3, 7, 4]\n",
    "x[ind]"
   ]
  },
  {
   "cell_type": "markdown",
   "id": "27c4a599",
   "metadata": {},
   "source": [
    "When using fancy indexing, the shape of the result reflects the shape of the index arrays rather than the shape of the array being indexed:"
   ]
  },
  {
   "cell_type": "code",
   "execution_count": 68,
   "id": "c2e75efb",
   "metadata": {},
   "outputs": [
    {
     "data": {
      "text/plain": [
       "array([[71, 86],\n",
       "       [60, 20]])"
      ]
     },
     "execution_count": 68,
     "metadata": {},
     "output_type": "execute_result"
    }
   ],
   "source": [
    "ind = np.array([[3, 7],\n",
    "                [4, 5]])\n",
    "x[ind]"
   ]
  },
  {
   "cell_type": "markdown",
   "id": "3cc65dac",
   "metadata": {},
   "source": [
    "Fancy indexing also works with multi-dimensional array. Example:"
   ]
  },
  {
   "cell_type": "code",
   "execution_count": 33,
   "id": "18d38b2e",
   "metadata": {},
   "outputs": [
    {
     "data": {
      "text/plain": [
       "array([[ 0,  1,  2,  3],\n",
       "       [ 4,  5,  6,  7],\n",
       "       [ 8,  9, 10, 11]])"
      ]
     },
     "execution_count": 33,
     "metadata": {},
     "output_type": "execute_result"
    }
   ],
   "source": [
    "X = np.arange(12).reshape((3, 4))\n",
    "X"
   ]
  },
  {
   "cell_type": "code",
   "execution_count": 34,
   "id": "b9881989",
   "metadata": {},
   "outputs": [
    {
     "data": {
      "text/plain": [
       "(3,)"
      ]
     },
     "execution_count": 34,
     "metadata": {},
     "output_type": "execute_result"
    }
   ],
   "source": [
    "row = np.array([0, 1, 2])\n",
    "col = np.array([2, 1, 3])\n",
    "X[row, col]\n",
    "row.shape"
   ]
  },
  {
   "cell_type": "markdown",
   "id": "0b8d5638",
   "metadata": {},
   "source": [
    "Notice that the first value in the result is X[0, 2], the second is X[1, 1], and the third is X[2, 3]. "
   ]
  },
  {
   "cell_type": "code",
   "execution_count": 66,
   "id": "2f2c3513",
   "metadata": {},
   "outputs": [
    {
     "data": {
      "text/plain": [
       "array([[ 0,  1,  2,  3],\n",
       "       [ 4,  5,  6,  7],\n",
       "       [ 8,  9, 10, 11]])"
      ]
     },
     "execution_count": 66,
     "metadata": {},
     "output_type": "execute_result"
    }
   ],
   "source": [
    "X"
   ]
  },
  {
   "cell_type": "markdown",
   "id": "0c4f7e70",
   "metadata": {},
   "source": [
    "We can combine fancy and simple indices:"
   ]
  },
  {
   "cell_type": "code",
   "execution_count": 67,
   "id": "8299ad6c",
   "metadata": {},
   "outputs": [
    {
     "data": {
      "text/plain": [
       "array([10,  8,  9])"
      ]
     },
     "execution_count": 67,
     "metadata": {},
     "output_type": "execute_result"
    }
   ],
   "source": [
    "X[2, [2, 0, 1]]"
   ]
  },
  {
   "cell_type": "markdown",
   "id": "ddffcd49",
   "metadata": {},
   "source": [
    "We can also combine fancy indexing with slicing:"
   ]
  },
  {
   "cell_type": "code",
   "execution_count": 68,
   "id": "304ce3fd",
   "metadata": {},
   "outputs": [
    {
     "data": {
      "text/plain": [
       "array([[ 6,  4,  5],\n",
       "       [10,  8,  9]])"
      ]
     },
     "execution_count": 68,
     "metadata": {},
     "output_type": "execute_result"
    }
   ],
   "source": [
    "X\n",
    "X[1:, [2, 0, 1]]"
   ]
  },
  {
   "cell_type": "code",
   "execution_count": 80,
   "id": "5b9747c2",
   "metadata": {},
   "outputs": [
    {
     "data": {
      "text/plain": [
       "array([ True, False,  True, False])"
      ]
     },
     "execution_count": 80,
     "metadata": {},
     "output_type": "execute_result"
    }
   ],
   "source": [
    "mask"
   ]
  },
  {
   "cell_type": "markdown",
   "id": "32d0169a",
   "metadata": {},
   "source": [
    "### Modifying values with fancy indexing"
   ]
  },
  {
   "cell_type": "markdown",
   "id": "9e109a4f",
   "metadata": {},
   "source": [
    "Just as fancy indexing can be used to access parts of an array, it can also be used to modify parts of an array. For example, imagine we have an array of indices and we'd like to set the corresponding items in an array to some value:"
   ]
  },
  {
   "cell_type": "code",
   "execution_count": 81,
   "id": "356b4911",
   "metadata": {},
   "outputs": [
    {
     "name": "stdout",
     "output_type": "stream",
     "text": [
      "[ 0 99 99  3 99  5  6  7 99  9]\n"
     ]
    }
   ],
   "source": [
    "x = np.arange(10)\n",
    "i = np.array([2, 1, 8, 4])\n",
    "x[i] = 99\n",
    "print(x)"
   ]
  },
  {
   "cell_type": "code",
   "execution_count": 82,
   "id": "bc0f4879",
   "metadata": {},
   "outputs": [
    {
     "name": "stdout",
     "output_type": "stream",
     "text": [
      "[ 0 89 89  3 89  5  6  7 89  9]\n"
     ]
    }
   ],
   "source": [
    "# We can use any assignment-type operator for this. For example:\n",
    "x[i] -= 10\n",
    "print(x)"
   ]
  },
  {
   "cell_type": "markdown",
   "id": "e636ff26",
   "metadata": {},
   "source": [
    "Notice, though, that repeated indices with these operations can cause some potentially unexpected results. Consider the following:"
   ]
  },
  {
   "cell_type": "code",
   "execution_count": 84,
   "id": "95b8c9b5",
   "metadata": {},
   "outputs": [
    {
     "name": "stdout",
     "output_type": "stream",
     "text": [
      "[6. 0. 0. 0. 0. 0. 0. 0. 0. 0.]\n"
     ]
    }
   ],
   "source": [
    "x = np.zeros(10)\n",
    "x[[0, 0]] = [4, 6]\n",
    "print(x)"
   ]
  },
  {
   "cell_type": "markdown",
   "id": "4abbece7",
   "metadata": {},
   "source": [
    "Where did the 4 go? The result of this operation is to first assign x[0] = 4, followed by x[0] = 6. The result, of course, is that x[0] contains the value 6.\n",
    "\n",
    "Fair enough, but consider this operation:"
   ]
  },
  {
   "cell_type": "code",
   "execution_count": 86,
   "id": "ec6742b7",
   "metadata": {},
   "outputs": [
    {
     "data": {
      "text/plain": [
       "array([6., 0., 0., 0., 0., 0., 0., 0., 0., 0.])"
      ]
     },
     "execution_count": 86,
     "metadata": {},
     "output_type": "execute_result"
    }
   ],
   "source": [
    "x"
   ]
  },
  {
   "cell_type": "code",
   "execution_count": 87,
   "id": "60ed2892",
   "metadata": {},
   "outputs": [
    {
     "data": {
      "text/plain": [
       "array([6., 0., 1., 1., 1., 0., 0., 0., 0., 0.])"
      ]
     },
     "execution_count": 87,
     "metadata": {},
     "output_type": "execute_result"
    }
   ],
   "source": [
    "i = [2, 3, 3, 4, 4, 4]\n",
    "x[i] += 1\n",
    "x"
   ]
  },
  {
   "cell_type": "markdown",
   "id": "b5839ff6",
   "metadata": {},
   "source": [
    "## Aggregations\n"
   ]
  },
  {
   "cell_type": "markdown",
   "id": "4ce8e405",
   "metadata": {},
   "source": [
    "Computing summary statistics of a large amount of data is usually the first step. Important summary statistics are mean and standard deviation but other aggregates are useful as well (sum, product,median, minimum, maximum, quantiles, etc.)\n",
    "\n",
    "Numpy has fast built-in aggregation functions for working with arrays."
   ]
  },
  {
   "cell_type": "markdown",
   "id": "14c7416f",
   "metadata": {},
   "source": [
    "### Summing all the values in an array\n"
   ]
  },
  {
   "cell_type": "code",
   "execution_count": 89,
   "id": "48701f74",
   "metadata": {},
   "outputs": [],
   "source": [
    "import numpy as np"
   ]
  },
  {
   "cell_type": "code",
   "execution_count": 91,
   "id": "8692fb36",
   "metadata": {},
   "outputs": [
    {
     "data": {
      "text/plain": [
       "array([1.66847513e-01, 7.79051020e-01, 8.64933296e-01, 4.11396724e-01,\n",
       "       1.39972585e-01, 3.32223853e-02, 9.82574960e-01, 3.73290751e-01,\n",
       "       4.20075370e-01, 5.05881151e-02, 3.65496106e-01, 1.66279737e-02,\n",
       "       2.30742335e-01, 7.64911699e-01, 9.44123519e-01, 7.49999249e-01,\n",
       "       3.39403819e-01, 4.89548937e-01, 3.38985117e-01, 1.79490261e-01,\n",
       "       1.70986599e-01, 4.63450977e-01, 8.74572958e-01, 9.44119751e-01,\n",
       "       6.08252866e-01, 5.96655406e-01, 7.83644245e-01, 5.00026298e-01,\n",
       "       5.03700568e-02, 6.99098075e-01, 9.92396399e-01, 2.67262538e-01,\n",
       "       6.79090616e-01, 8.64281443e-01, 7.50844246e-01, 9.64489768e-01,\n",
       "       5.54242435e-01, 2.12390499e-01, 2.22443224e-01, 2.18749374e-01,\n",
       "       5.69573535e-01, 4.52109035e-01, 9.70236683e-01, 6.80544691e-01,\n",
       "       8.52955659e-02, 5.64183327e-02, 4.87837704e-01, 8.81004562e-01,\n",
       "       9.76404387e-01, 6.17657916e-01, 5.42498775e-01, 8.54613580e-01,\n",
       "       7.43834545e-01, 4.78596326e-01, 6.77081574e-01, 6.07045061e-01,\n",
       "       7.14696936e-01, 4.69497183e-01, 4.56014623e-01, 9.06418087e-01,\n",
       "       1.37220420e-01, 2.29219323e-01, 8.81585399e-01, 9.04424976e-01,\n",
       "       6.45784599e-01, 3.24682972e-01, 5.19711194e-01, 5.53568650e-05,\n",
       "       3.11860221e-01, 4.25451538e-01, 8.85337660e-01, 6.79879456e-01,\n",
       "       4.56129772e-01, 4.83408617e-01, 7.88739428e-01, 2.29441834e-01,\n",
       "       8.80297603e-01, 3.13692393e-01, 9.57450856e-01, 4.71751571e-01,\n",
       "       7.11583817e-01, 1.53694305e-01, 7.30442177e-01, 6.46264437e-01,\n",
       "       2.14880737e-01, 1.86458219e-01, 8.07580269e-01, 7.47079470e-01,\n",
       "       6.74847346e-01, 2.76893751e-01, 1.74908874e-01, 7.04474258e-01,\n",
       "       4.63150200e-01, 8.40428533e-01, 2.04865762e-01, 1.64958868e-01,\n",
       "       1.24833057e-01, 7.22080662e-01, 3.04529649e-02, 7.46994240e-01])"
      ]
     },
     "execution_count": 91,
     "metadata": {},
     "output_type": "execute_result"
    }
   ],
   "source": [
    "L = np.random.random(100)\n",
    "L"
   ]
  },
  {
   "cell_type": "code",
   "execution_count": 90,
   "id": "f3bc0725",
   "metadata": {},
   "outputs": [
    {
     "data": {
      "text/plain": [
       "45"
      ]
     },
     "execution_count": 90,
     "metadata": {},
     "output_type": "execute_result"
    }
   ],
   "source": [
    "## Sum of all the elements in Matrix L\n",
    "\n",
    "np.sum(L) "
   ]
  },
  {
   "cell_type": "markdown",
   "id": "ea7c7f74",
   "metadata": {},
   "source": [
    "## Maximum and Minimum\n"
   ]
  },
  {
   "cell_type": "markdown",
   "id": "7daaaf48",
   "metadata": {},
   "source": [
    "NumPy has built in min and max functions"
   ]
  },
  {
   "cell_type": "code",
   "execution_count": 94,
   "id": "6dd1f37b",
   "metadata": {},
   "outputs": [
    {
     "data": {
      "text/plain": [
       "(5.535686500857118e-05, 0.9923963988886326)"
      ]
     },
     "execution_count": 94,
     "metadata": {},
     "output_type": "execute_result"
    }
   ],
   "source": [
    "np.min(L), np.max(L)"
   ]
  },
  {
   "cell_type": "markdown",
   "id": "80112c7f",
   "metadata": {},
   "source": [
    "For min, max, sum, and several other NumPy aggregates, a shorter syntax is to use methods of the array object itself:"
   ]
  },
  {
   "cell_type": "code",
   "execution_count": 96,
   "id": "d7d09b66",
   "metadata": {},
   "outputs": [
    {
     "name": "stdout",
     "output_type": "stream",
     "text": [
      "5.535686500857118e-05, 0.9923963988886326, 52.139025744667336\n"
     ]
    }
   ],
   "source": [
    "print(f\"{L.min()}, {L.max()}, {L.sum()}\")"
   ]
  },
  {
   "cell_type": "code",
   "execution_count": 97,
   "id": "c7147e00",
   "metadata": {},
   "outputs": [
    {
     "name": "stdout",
     "output_type": "stream",
     "text": [
      "Max: 0.00006, Min: 0.99240, Sum: 52.13903\n"
     ]
    }
   ],
   "source": [
    "print('Max: %3.5f, Min: %3.5f, Sum: %3.5f' %(L.min(), L.max(), L.sum()))"
   ]
  },
  {
   "cell_type": "markdown",
   "id": "c16753b0",
   "metadata": {},
   "source": [
    "## Multi-dimensional aggregates"
   ]
  },
  {
   "cell_type": "markdown",
   "id": "c6b2b7b5",
   "metadata": {},
   "source": [
    "One common type of aggregation operation is an aggregate along a row or column. Say you have some data stored in a two-dimensional array:"
   ]
  },
  {
   "cell_type": "markdown",
   "id": "7c154ef2",
   "metadata": {},
   "source": [
    "One common type of aggregation operation is an aggregate along a row or column. Say you have some data stored in a two-dimensional array:"
   ]
  },
  {
   "cell_type": "code",
   "execution_count": 91,
   "id": "4c0c3906",
   "metadata": {},
   "outputs": [
    {
     "name": "stdout",
     "output_type": "stream",
     "text": [
      "[[0.65279032 0.63505887 0.99529957 0.58185033]\n",
      " [0.41436859 0.4746975  0.6235101  0.33800761]\n",
      " [0.67475232 0.31720174 0.77834548 0.94957105]]\n"
     ]
    }
   ],
   "source": [
    "M = np.random.random((3, 4))\n",
    "print(M)"
   ]
  },
  {
   "cell_type": "markdown",
   "id": "38c809cd",
   "metadata": {},
   "source": [
    "By default, each NumPy aggregation function will return the aggregate over the entire array:"
   ]
  },
  {
   "cell_type": "code",
   "execution_count": 92,
   "id": "235a18b2",
   "metadata": {},
   "outputs": [
    {
     "data": {
      "text/plain": [
       "7.435453494015987"
      ]
     },
     "execution_count": 92,
     "metadata": {},
     "output_type": "execute_result"
    }
   ],
   "source": [
    "M.sum()"
   ]
  },
  {
   "cell_type": "markdown",
   "id": "b451cddd",
   "metadata": {},
   "source": [
    "Aggregation functions take an additional argument specifying the axis along which the aggregate is computed. For example, we can find the minimum value within each column by specifying axis=0:"
   ]
  },
  {
   "cell_type": "code",
   "execution_count": 93,
   "id": "23da75b0",
   "metadata": {},
   "outputs": [
    {
     "data": {
      "text/plain": [
       "array([0.41436859, 0.31720174, 0.6235101 , 0.33800761])"
      ]
     },
     "execution_count": 93,
     "metadata": {},
     "output_type": "execute_result"
    }
   ],
   "source": [
    "M.min(axis=0) #The function returns four values, corresponding to the four columns of numbers"
   ]
  },
  {
   "cell_type": "code",
   "execution_count": 102,
   "id": "66f0938d",
   "metadata": {},
   "outputs": [
    {
     "data": {
      "text/plain": [
       "array([0.74925442, 0.67726331, 0.8330381 ])"
      ]
     },
     "execution_count": 102,
     "metadata": {},
     "output_type": "execute_result"
    }
   ],
   "source": [
    "#Similarly, we can find the maximum value within each row\n",
    "M.max(axis=1)"
   ]
  },
  {
   "cell_type": "markdown",
   "id": "5013f4cc",
   "metadata": {},
   "source": [
    "The axis keyword specifies the dimension of the array that will be collapsed, rather than the dimension that will be returned. So specifying axis=0 means that the first axis will be collapsed: for two-dimensional arrays, this means that values within each column will be aggregated."
   ]
  },
  {
   "cell_type": "markdown",
   "id": "bda47c80",
   "metadata": {},
   "source": [
    "### Other aggregation functions\n",
    "\n",
    "NumPy provides many other aggregation functions, but we won't discuss them in detail here.\n",
    "Additionally, most aggregates have a ``NaN``-safe counterpart that computes the result while ignoring missing values, which are marked by the special IEEE floating-point ``NaN`` value.\n",
    "\n",
    "Some of these ``NaN``-safe functions were not added until NumPy 1.8, so they will not be available in older NumPy versions.\n",
    "\n",
    "The following table provides a list of useful aggregation functions available in NumPy:\n",
    "\n",
    "|Function Name      |   NaN-safe Version  | Description                                   |\n",
    "|-------------------|---------------------|-----------------------------------------------|\n",
    "| ``np.sum``        | ``np.nansum``       | Compute sum of elements                       |\n",
    "| ``np.prod``       | ``np.nanprod``      | Compute product of elements                   |\n",
    "| ``np.mean``       | ``np.nanmean``      | Compute mean of elements                      |\n",
    "| ``np.std``        | ``np.nanstd``       | Compute standard deviation                    |\n",
    "| ``np.var``        | ``np.nanvar``       | Compute variance                              |\n",
    "| ``np.min``        | ``np.nanmin``       | Find minimum value                            |\n",
    "| ``np.max``        | ``np.nanmax``       | Find maximum value                            |\n",
    "| ``np.argmin``     | ``np.nanargmin``    | Find index of minimum value                   |\n",
    "| ``np.argmax``     | ``np.nanargmax``    | Find index of maximum value                   |\n",
    "| ``np.median``     | ``np.nanmedian``    | Compute median of elements                    |\n",
    "| ``np.percentile`` | ``np.nanpercentile``| Compute rank-based statistics of elements     |\n",
    "| ``np.any``        | N/A                 | Evaluate whether any elements are true        |\n",
    "| ``np.all``        | N/A                 | Evaluate whether all elements are true        |\n"
   ]
  },
  {
   "cell_type": "markdown",
   "id": "721780ce",
   "metadata": {},
   "source": [
    "## Computation on Arrays: Broadcasting\n"
   ]
  },
  {
   "cell_type": "markdown",
   "id": "9e821c5c",
   "metadata": {},
   "source": [
    "Recall that for arrays of the same size, binary operations are performed on an element-by-element basis:\n",
    "\n"
   ]
  },
  {
   "cell_type": "code",
   "execution_count": 94,
   "id": "71196fd0",
   "metadata": {},
   "outputs": [
    {
     "data": {
      "text/plain": [
       "array([5, 6, 7])"
      ]
     },
     "execution_count": 94,
     "metadata": {},
     "output_type": "execute_result"
    }
   ],
   "source": [
    "import numpy as np\n",
    "\n",
    "a = np.array([0, 1, 2])\n",
    "b = np.array([5, 5, 5])\n",
    "a + b"
   ]
  },
  {
   "cell_type": "markdown",
   "id": "47b88627",
   "metadata": {},
   "source": [
    "Broadcasting allows these types of binary operations to be performed on arrays of different sizes–for example, we can just as easily add a scalar (think of it as a zero-dimensional array) to an array:"
   ]
  },
  {
   "cell_type": "code",
   "execution_count": 95,
   "id": "67dc6114",
   "metadata": {},
   "outputs": [
    {
     "data": {
      "text/plain": [
       "array([5, 6, 7])"
      ]
     },
     "execution_count": 95,
     "metadata": {},
     "output_type": "execute_result"
    }
   ],
   "source": [
    "a+5"
   ]
  },
  {
   "cell_type": "code",
   "execution_count": 96,
   "id": "9068c3dd",
   "metadata": {},
   "outputs": [
    {
     "data": {
      "text/plain": [
       "array([[1., 1., 1.],\n",
       "       [1., 1., 1.],\n",
       "       [1., 1., 1.]])"
      ]
     },
     "execution_count": 96,
     "metadata": {},
     "output_type": "execute_result"
    }
   ],
   "source": [
    "M = np.ones((3, 3))\n",
    "M"
   ]
  },
  {
   "cell_type": "code",
   "execution_count": 97,
   "id": "fa763620",
   "metadata": {},
   "outputs": [
    {
     "data": {
      "text/plain": [
       "array([[1., 2., 3.],\n",
       "       [1., 2., 3.],\n",
       "       [1., 2., 3.]])"
      ]
     },
     "execution_count": 97,
     "metadata": {},
     "output_type": "execute_result"
    }
   ],
   "source": [
    "M + a"
   ]
  },
  {
   "cell_type": "code",
   "execution_count": 109,
   "id": "bbe14e8a",
   "metadata": {},
   "outputs": [
    {
     "data": {
      "text/plain": [
       "array([[1., 2., 3.],\n",
       "       [1., 2., 3.],\n",
       "       [1., 2., 3.]])"
      ]
     },
     "execution_count": 109,
     "metadata": {},
     "output_type": "execute_result"
    }
   ],
   "source": []
  },
  {
   "cell_type": "code",
   "execution_count": 110,
   "id": "f16349c0",
   "metadata": {},
   "outputs": [
    {
     "data": {
      "text/plain": [
       "array([[6., 6., 6.],\n",
       "       [6., 6., 6.],\n",
       "       [6., 6., 6.]])"
      ]
     },
     "execution_count": 110,
     "metadata": {},
     "output_type": "execute_result"
    }
   ],
   "source": [
    "M+5"
   ]
  },
  {
   "cell_type": "markdown",
   "id": "acaa1f22",
   "metadata": {},
   "source": [
    "### Broadcasting example\n"
   ]
  },
  {
   "cell_type": "code",
   "execution_count": 98,
   "id": "df4cea02",
   "metadata": {},
   "outputs": [],
   "source": [
    "X = np.random.random((10, 3))"
   ]
  },
  {
   "cell_type": "markdown",
   "id": "24ac7dc9",
   "metadata": {},
   "source": [
    "We can compute the mean of each feature using the mean aggregate across the first dimension:"
   ]
  },
  {
   "cell_type": "code",
   "execution_count": 99,
   "id": "b8ae5ad7",
   "metadata": {},
   "outputs": [
    {
     "data": {
      "text/plain": [
       "array([0.55125234, 0.55190742, 0.55364225])"
      ]
     },
     "execution_count": 99,
     "metadata": {},
     "output_type": "execute_result"
    }
   ],
   "source": [
    "Xmean = X.mean(0)\n",
    "Xmean"
   ]
  },
  {
   "cell_type": "markdown",
   "id": "f394058d",
   "metadata": {},
   "source": [
    "And now we can center the X array by subtracting the mean (this is a broadcasting operation):"
   ]
  },
  {
   "cell_type": "code",
   "execution_count": 115,
   "id": "e36b38e4",
   "metadata": {},
   "outputs": [],
   "source": [
    "X_centered = X - Xmean"
   ]
  },
  {
   "cell_type": "code",
   "execution_count": 116,
   "id": "f598d608",
   "metadata": {},
   "outputs": [
    {
     "data": {
      "text/plain": [
       "array([-1.11022302e-16, -4.44089210e-17, -6.66133815e-17])"
      ]
     },
     "execution_count": 116,
     "metadata": {},
     "output_type": "execute_result"
    }
   ],
   "source": [
    "X_centered.mean(0)"
   ]
  },
  {
   "cell_type": "code",
   "execution_count": 117,
   "id": "f89f076a",
   "metadata": {},
   "outputs": [
    {
     "data": {
      "text/plain": [
       "-7.031412489292658e-17"
      ]
     },
     "execution_count": 117,
     "metadata": {},
     "output_type": "execute_result"
    }
   ],
   "source": [
    "X_centered.mean() #To within machine precision, the mean is now zero."
   ]
  },
  {
   "cell_type": "markdown",
   "id": "84294568",
   "metadata": {},
   "source": [
    "# Comparisions, Masks and Boolean Logic"
   ]
  },
  {
   "cell_type": "markdown",
   "id": "c63f458b",
   "metadata": {},
   "source": [
    "This section covers the use of Boolean masks to examine and manipulate values within NumPy arrays. Masking comes up when you want to extract, modify, count, or otherwise manipulate values in an array based on some criterion: for example, you might wish to count all values greater than a certain value, or perhaps remove all outliers that are above some threshold. In NumPy, Boolean masking is often the most efficient way to accomplish these types of tasks."
   ]
  },
  {
   "cell_type": "markdown",
   "id": "57945732",
   "metadata": {},
   "source": [
    "### Comparision Operators"
   ]
  },
  {
   "cell_type": "code",
   "execution_count": 119,
   "id": "de293c03",
   "metadata": {},
   "outputs": [
    {
     "data": {
      "text/plain": [
       "array([1, 2, 3, 4, 5])"
      ]
     },
     "execution_count": 119,
     "metadata": {},
     "output_type": "execute_result"
    }
   ],
   "source": [
    "x = np.array([1, 2, 3, 4, 5])\n",
    "x"
   ]
  },
  {
   "cell_type": "code",
   "execution_count": 123,
   "id": "9c0d9066",
   "metadata": {},
   "outputs": [
    {
     "data": {
      "text/plain": [
       "array([ True,  True, False, False, False])"
      ]
     },
     "execution_count": 123,
     "metadata": {},
     "output_type": "execute_result"
    }
   ],
   "source": [
    "# less than\n",
    "x < 3 "
   ]
  },
  {
   "cell_type": "code",
   "execution_count": 125,
   "id": "e988da18",
   "metadata": {},
   "outputs": [
    {
     "data": {
      "text/plain": [
       "array([False, False, False,  True,  True])"
      ]
     },
     "execution_count": 125,
     "metadata": {},
     "output_type": "execute_result"
    }
   ],
   "source": [
    "# greater than\n",
    "x > 3  "
   ]
  },
  {
   "cell_type": "code",
   "execution_count": 126,
   "id": "9cc640f6",
   "metadata": {},
   "outputs": [
    {
     "data": {
      "text/plain": [
       "array([ True,  True,  True, False, False])"
      ]
     },
     "execution_count": 126,
     "metadata": {},
     "output_type": "execute_result"
    }
   ],
   "source": [
    "# less than or equal\n",
    "x <= 3  "
   ]
  },
  {
   "cell_type": "code",
   "execution_count": 127,
   "id": "80d3f546",
   "metadata": {},
   "outputs": [
    {
     "data": {
      "text/plain": [
       "array([False, False,  True,  True,  True])"
      ]
     },
     "execution_count": 127,
     "metadata": {},
     "output_type": "execute_result"
    }
   ],
   "source": [
    "# greater than or equal\n",
    "x >= 3  "
   ]
  },
  {
   "cell_type": "code",
   "execution_count": 128,
   "id": "fd44b11b",
   "metadata": {},
   "outputs": [
    {
     "data": {
      "text/plain": [
       "array([ True,  True, False,  True,  True])"
      ]
     },
     "execution_count": 128,
     "metadata": {},
     "output_type": "execute_result"
    }
   ],
   "source": [
    "# not equal\n",
    "x != 3  "
   ]
  },
  {
   "cell_type": "code",
   "execution_count": 129,
   "id": "9bd3aecd",
   "metadata": {},
   "outputs": [
    {
     "data": {
      "text/plain": [
       "array([False, False,  True, False, False])"
      ]
     },
     "execution_count": 129,
     "metadata": {},
     "output_type": "execute_result"
    }
   ],
   "source": [
    "x == 3  # equal"
   ]
  },
  {
   "cell_type": "code",
   "execution_count": 130,
   "id": "925b8dc6",
   "metadata": {},
   "outputs": [
    {
     "data": {
      "text/plain": [
       "array([False,  True, False, False, False])"
      ]
     },
     "execution_count": 130,
     "metadata": {},
     "output_type": "execute_result"
    }
   ],
   "source": [
    "(2 * x) == (x ** 2)"
   ]
  },
  {
   "cell_type": "code",
   "execution_count": 131,
   "id": "727db25c",
   "metadata": {},
   "outputs": [
    {
     "data": {
      "text/plain": [
       "array([[5, 0, 3, 3],\n",
       "       [7, 9, 3, 5],\n",
       "       [2, 4, 7, 6]])"
      ]
     },
     "execution_count": 131,
     "metadata": {},
     "output_type": "execute_result"
    }
   ],
   "source": [
    "rng = np.random.RandomState(0)\n",
    "x = rng.randint(10, size=(3, 4))\n",
    "x"
   ]
  },
  {
   "cell_type": "code",
   "execution_count": 132,
   "id": "e2d4b8ba",
   "metadata": {},
   "outputs": [
    {
     "data": {
      "text/plain": [
       "array([[ True,  True,  True,  True],\n",
       "       [False, False,  True,  True],\n",
       "       [ True,  True, False, False]])"
      ]
     },
     "execution_count": 132,
     "metadata": {},
     "output_type": "execute_result"
    }
   ],
   "source": [
    "x < 6"
   ]
  },
  {
   "cell_type": "code",
   "execution_count": 133,
   "id": "fed5f67d",
   "metadata": {},
   "outputs": [
    {
     "data": {
      "text/plain": [
       "array([[5, 0, 3, 3],\n",
       "       [7, 9, 3, 5],\n",
       "       [2, 4, 7, 6]])"
      ]
     },
     "execution_count": 133,
     "metadata": {},
     "output_type": "execute_result"
    }
   ],
   "source": [
    "x"
   ]
  },
  {
   "cell_type": "code",
   "execution_count": 135,
   "id": "e5ce14c5",
   "metadata": {},
   "outputs": [
    {
     "data": {
      "text/plain": [
       "8"
      ]
     },
     "execution_count": 135,
     "metadata": {},
     "output_type": "execute_result"
    }
   ],
   "source": [
    "#To count the number of True entries in a Boolean array, np.count_nonzero is useful\n",
    "np.count_nonzero(x < 6) "
   ]
  },
  {
   "cell_type": "markdown",
   "id": "0ec402aa",
   "metadata": {},
   "source": [
    "We see that there are eight array entries that are less than 6. Another way to get at this information is to use np.sum; in this case, False is interpreted as 0, and True is interpreted as 1:"
   ]
  },
  {
   "cell_type": "code",
   "execution_count": 137,
   "id": "e9da2709",
   "metadata": {},
   "outputs": [
    {
     "data": {
      "text/plain": [
       "8"
      ]
     },
     "execution_count": 137,
     "metadata": {},
     "output_type": "execute_result"
    }
   ],
   "source": [
    "np.sum(x < 6)"
   ]
  },
  {
   "cell_type": "code",
   "execution_count": 138,
   "id": "225e19c3",
   "metadata": {},
   "outputs": [
    {
     "data": {
      "text/plain": [
       "array([4, 2, 2])"
      ]
     },
     "execution_count": 138,
     "metadata": {},
     "output_type": "execute_result"
    }
   ],
   "source": [
    "# how many values less than 6 in each row?\n",
    "np.sum(x < 6, axis=1)"
   ]
  },
  {
   "cell_type": "code",
   "execution_count": 139,
   "id": "0cc29f11",
   "metadata": {},
   "outputs": [
    {
     "data": {
      "text/plain": [
       "array([0, 0, 0, 1])"
      ]
     },
     "execution_count": 139,
     "metadata": {},
     "output_type": "execute_result"
    }
   ],
   "source": [
    "np.sum(x==6,axis=0)"
   ]
  },
  {
   "cell_type": "code",
   "execution_count": 140,
   "id": "ce467b58",
   "metadata": {},
   "outputs": [
    {
     "data": {
      "text/plain": [
       "array([1, 1, 1, 0])"
      ]
     },
     "execution_count": 140,
     "metadata": {},
     "output_type": "execute_result"
    }
   ],
   "source": [
    "np.sum(x>6,axis=0)"
   ]
  },
  {
   "cell_type": "code",
   "execution_count": 141,
   "id": "d4cd6201",
   "metadata": {},
   "outputs": [
    {
     "data": {
      "text/plain": [
       "True"
      ]
     },
     "execution_count": 141,
     "metadata": {},
     "output_type": "execute_result"
    }
   ],
   "source": [
    "# are there any values greater than 8?\n",
    "np.any(x > 8)"
   ]
  },
  {
   "cell_type": "code",
   "execution_count": 142,
   "id": "b6c4f4e2",
   "metadata": {},
   "outputs": [
    {
     "data": {
      "text/plain": [
       "False"
      ]
     },
     "execution_count": 142,
     "metadata": {},
     "output_type": "execute_result"
    }
   ],
   "source": [
    "# are there any values less than zero?\n",
    "np.any(x < 0)"
   ]
  },
  {
   "cell_type": "code",
   "execution_count": 143,
   "id": "ee394b6c",
   "metadata": {},
   "outputs": [
    {
     "data": {
      "text/plain": [
       "True"
      ]
     },
     "execution_count": 143,
     "metadata": {},
     "output_type": "execute_result"
    }
   ],
   "source": [
    "# are all values less than 10?\n",
    "np.all(x < 10)"
   ]
  },
  {
   "cell_type": "code",
   "execution_count": 144,
   "id": "a3be6cd4",
   "metadata": {},
   "outputs": [
    {
     "data": {
      "text/plain": [
       "False"
      ]
     },
     "execution_count": 144,
     "metadata": {},
     "output_type": "execute_result"
    }
   ],
   "source": [
    "# are all values equal to 6?\n",
    "np.all(x == 6)"
   ]
  },
  {
   "cell_type": "code",
   "execution_count": 145,
   "id": "70729634",
   "metadata": {},
   "outputs": [
    {
     "data": {
      "text/plain": [
       "True"
      ]
     },
     "execution_count": 145,
     "metadata": {},
     "output_type": "execute_result"
    }
   ],
   "source": [
    "np.any(x==6)"
   ]
  },
  {
   "cell_type": "code",
   "execution_count": 146,
   "id": "0651d226",
   "metadata": {},
   "outputs": [
    {
     "data": {
      "text/plain": [
       "array([ True, False,  True])"
      ]
     },
     "execution_count": 146,
     "metadata": {},
     "output_type": "execute_result"
    }
   ],
   "source": [
    "# are all values in each row less than 8?\n",
    "np.all(x < 8, axis=1)"
   ]
  },
  {
   "cell_type": "markdown",
   "id": "02cea95a",
   "metadata": {},
   "source": [
    "### Boolean Operators\n"
   ]
  },
  {
   "cell_type": "code",
   "execution_count": 148,
   "id": "43ca4811",
   "metadata": {},
   "outputs": [
    {
     "data": {
      "text/plain": [
       "array([[5, 0, 3, 3],\n",
       "       [7, 9, 3, 5],\n",
       "       [2, 4, 7, 6]])"
      ]
     },
     "execution_count": 148,
     "metadata": {},
     "output_type": "execute_result"
    }
   ],
   "source": [
    "x"
   ]
  },
  {
   "cell_type": "code",
   "execution_count": 149,
   "id": "6cf2f98c",
   "metadata": {},
   "outputs": [
    {
     "data": {
      "text/plain": [
       "array([[False,  True,  True,  True],\n",
       "       [False, False,  True, False],\n",
       "       [ True,  True, False, False]])"
      ]
     },
     "execution_count": 149,
     "metadata": {},
     "output_type": "execute_result"
    }
   ],
   "source": [
    "x < 5"
   ]
  },
  {
   "cell_type": "markdown",
   "id": "ae20bc0d",
   "metadata": {},
   "source": [
    "Now to select these values from the array, we can simply index on this Boolean array; this is known as a masking operation:"
   ]
  },
  {
   "cell_type": "code",
   "execution_count": 152,
   "id": "436accac",
   "metadata": {},
   "outputs": [
    {
     "data": {
      "text/plain": [
       "array([0, 3, 3, 3, 2, 4])"
      ]
     },
     "execution_count": 152,
     "metadata": {},
     "output_type": "execute_result"
    }
   ],
   "source": [
    "x[x < 5]"
   ]
  },
  {
   "cell_type": "markdown",
   "id": "85d03a17",
   "metadata": {},
   "source": [
    "What is returned is a one-dimensional array filled with all the values that meet this condition; in other words, all the values in positions at which the mask array is True.\n",
    "\n",
    "One common point of confusion is the difference between the keywords and and or on one hand, and the operators & and | on the other hand. When would you use one versus the other?\n",
    "\n",
    "The difference is this: and and or gauge the truth or falsehood of entire object, while & and | refer to bits within each object.\n",
    "\n",
    "When you use and or or, it's equivalent to asking Python to treat the object as a single Boolean entity. In Python, all nonzero integers will evaluate as True. Thus:"
   ]
  },
  {
   "cell_type": "code",
   "execution_count": 153,
   "id": "e8db1b98",
   "metadata": {},
   "outputs": [
    {
     "data": {
      "text/plain": [
       "(True, False)"
      ]
     },
     "execution_count": 153,
     "metadata": {},
     "output_type": "execute_result"
    }
   ],
   "source": [
    "bool(42), bool(0)"
   ]
  },
  {
   "cell_type": "code",
   "execution_count": 154,
   "id": "49265c21",
   "metadata": {},
   "outputs": [
    {
     "data": {
      "text/plain": [
       "False"
      ]
     },
     "execution_count": 154,
     "metadata": {},
     "output_type": "execute_result"
    }
   ],
   "source": [
    "bool(42 and 0)"
   ]
  },
  {
   "cell_type": "code",
   "execution_count": 155,
   "id": "aa277330",
   "metadata": {},
   "outputs": [
    {
     "data": {
      "text/plain": [
       "True"
      ]
     },
     "execution_count": 155,
     "metadata": {},
     "output_type": "execute_result"
    }
   ],
   "source": [
    "bool(42 or 0)"
   ]
  },
  {
   "cell_type": "markdown",
   "id": "dfeb0ee4",
   "metadata": {},
   "source": [
    "When you have an array of Boolean values in NumPy, this can be thought of as a string of bits where 1 = True and 0 = False, and the result of & and | operates similarly to above:"
   ]
  },
  {
   "cell_type": "code",
   "execution_count": 72,
   "id": "44260666",
   "metadata": {},
   "outputs": [
    {
     "data": {
      "text/plain": [
       "array([ True,  True,  True, False,  True,  True])"
      ]
     },
     "execution_count": 72,
     "metadata": {},
     "output_type": "execute_result"
    }
   ],
   "source": [
    "A = np.array([1, 0, 1, 0, 1, 0], dtype=bool)\n",
    "B = np.array([1, 1, 1, 0, 1, 1], dtype=bool)\n",
    "A | B"
   ]
  },
  {
   "cell_type": "code",
   "execution_count": 75,
   "id": "0494a9de",
   "metadata": {},
   "outputs": [
    {
     "ename": "ValueError",
     "evalue": "The truth value of an array with more than one element is ambiguous. Use a.any() or a.all()",
     "output_type": "error",
     "traceback": [
      "\u001b[0;31m---------------------------------------------------------------------------\u001b[0m",
      "\u001b[0;31mValueError\u001b[0m                                Traceback (most recent call last)",
      "\u001b[0;32m<ipython-input-75-688a0af96b45>\u001b[0m in \u001b[0;36m<module>\u001b[0;34m\u001b[0m\n\u001b[1;32m      1\u001b[0m \u001b[0;31m## Not well defined for dtype=bool\u001b[0m\u001b[0;34m\u001b[0m\u001b[0;34m\u001b[0m\u001b[0;34m\u001b[0m\u001b[0m\n\u001b[0;32m----> 2\u001b[0;31m \u001b[0mA\u001b[0m \u001b[0;32mor\u001b[0m \u001b[0mB\u001b[0m  \u001b[0;31m# To check uncomment\u001b[0m\u001b[0;34m\u001b[0m\u001b[0;34m\u001b[0m\u001b[0m\n\u001b[0m",
      "\u001b[0;31mValueError\u001b[0m: The truth value of an array with more than one element is ambiguous. Use a.any() or a.all()"
     ]
    }
   ],
   "source": [
    "## Not well defined for dtype=bool\n",
    "A or B  # To check uncomment"
   ]
  },
  {
   "cell_type": "code",
   "execution_count": 163,
   "id": "e5ad7e5f",
   "metadata": {},
   "outputs": [
    {
     "data": {
      "text/plain": [
       "array([False, False, False, False, False,  True,  True,  True, False,\n",
       "       False])"
      ]
     },
     "execution_count": 163,
     "metadata": {},
     "output_type": "execute_result"
    }
   ],
   "source": [
    "x = np.arange(10)\n",
    "(x > 4) & (x < 8)"
   ]
  },
  {
   "cell_type": "code",
   "execution_count": 76,
   "id": "45edae04",
   "metadata": {},
   "outputs": [
    {
     "ename": "ValueError",
     "evalue": "The truth value of an array with more than one element is ambiguous. Use a.any() or a.all()",
     "output_type": "error",
     "traceback": [
      "\u001b[0;31m---------------------------------------------------------------------------\u001b[0m",
      "\u001b[0;31mValueError\u001b[0m                                Traceback (most recent call last)",
      "\u001b[0;32m<ipython-input-76-1c25e8a908fb>\u001b[0m in \u001b[0;36m<module>\u001b[0;34m\u001b[0m\n\u001b[1;32m      1\u001b[0m \u001b[0;31m#also, and operatory not dfined to compare the type of two arrays\u001b[0m\u001b[0;34m\u001b[0m\u001b[0;34m\u001b[0m\u001b[0;34m\u001b[0m\u001b[0m\n\u001b[0;32m----> 2\u001b[0;31m \u001b[0;34m(\u001b[0m\u001b[0mx\u001b[0m \u001b[0;34m>\u001b[0m \u001b[0;36m4\u001b[0m\u001b[0;34m)\u001b[0m \u001b[0;32mand\u001b[0m \u001b[0;34m(\u001b[0m\u001b[0mx\u001b[0m \u001b[0;34m<\u001b[0m \u001b[0;36m8\u001b[0m\u001b[0;34m)\u001b[0m \u001b[0;31m# To check uncomment\u001b[0m\u001b[0;34m\u001b[0m\u001b[0;34m\u001b[0m\u001b[0m\n\u001b[0m",
      "\u001b[0;31mValueError\u001b[0m: The truth value of an array with more than one element is ambiguous. Use a.any() or a.all()"
     ]
    }
   ],
   "source": [
    "#also, and operatory not dfined to compare the type of two arrays\n",
    "#(x > 4) and (x < 8) # To check uncomment"
   ]
  },
  {
   "cell_type": "markdown",
   "id": "0f7baeb0",
   "metadata": {},
   "source": [
    "So remember this: ``and`` and ``or`` perform a single Boolean evaluation on an entire object, while ``&`` and ``|`` perform multiple Boolean evaluations on the content (the individual bits or bytes) of an object. For Boolean NumPy arrays, the latter is nearly always the desired operation."
   ]
  },
  {
   "cell_type": "markdown",
   "id": "e1b8eede",
   "metadata": {},
   "source": [
    "## Basics of SciPy"
   ]
  },
  {
   "cell_type": "markdown",
   "id": "a83b3c8a",
   "metadata": {},
   "source": [
    "##### Solving Lorenz system\n",
    "$$\n",
    "\\begin{aligned}\n",
    "\\dot{x} &= \\sigma(y-x)\\\\\n",
    "\\dot{y} &= x(\\rho-z)- y\\\\\n",
    "\\dot{z} &= xy - \\beta z\n",
    "\\end{aligned}\n",
    "$$\n",
    "with initial conditions\n",
    "$$x(t=0)=1,~y(t=0)=1, ~ \\text{and}, z(t=0)=1.$$"
   ]
  },
  {
   "cell_type": "code",
   "execution_count": 100,
   "id": "7a3db53f",
   "metadata": {},
   "outputs": [
    {
     "name": "stderr",
     "output_type": "stream",
     "text": [
      "/var/folders/fk/ct6y6fqd6kl_b95p4tls726c0000gq/T/ipykernel_41763/2632057571.py:20: MatplotlibDeprecationWarning: Calling gca() with keyword arguments was deprecated in Matplotlib 3.4. Starting two minor releases later, gca() will take no keyword arguments. The gca() function should only be used to get the current axes, or if no axes exist, create new axes with default keyword arguments. To create a new axes with non-default arguments, use plt.axes() or plt.subplot().\n",
      "  ax = fig.gca(projection=\"3d\")\n"
     ]
    },
    {
     "data": {
      "image/png": "[encoded data removed]",
      "text/plain": [
       "<Figure size 640x480 with 1 Axes>"
      ]
     },
     "metadata": {},
     "output_type": "display_data"
    }
   ],
   "source": [
    "import numpy as np\n",
    "import matplotlib.pyplot as plt\n",
    "from scipy.integrate import odeint\n",
    "from mpl_toolkits.mplot3d import Axes3D\n",
    "\n",
    "rho = 28.0\n",
    "sigma = 10.0\n",
    "beta = 8.0 / 3.0\n",
    "\n",
    "def f(state, t):\n",
    "    x, y, z = state  # Unpack the state vector\n",
    "    return sigma * (y - x), x * (rho - z) - y, x * y - beta * z  # Derivatives\n",
    "\n",
    "state0 = [1.0, 1.0, 1.0]\n",
    "t = np.arange(0.0, 40.0, 0.01)\n",
    "\n",
    "states = odeint(f, state0, t)\n",
    "\n",
    "fig = plt.figure()\n",
    "ax = fig.gca(projection=\"3d\")\n",
    "ax.plot(states[:, 0], states[:, 1], states[:, 2])\n",
    "plt.draw()\n",
    "plt.show()"
   ]
  },
  {
   "cell_type": "code",
   "execution_count": 12,
   "id": "dab79115",
   "metadata": {},
   "outputs": [
    {
     "name": "stdout",
     "output_type": "stream",
     "text": [
      "Requirement already satisfied: pydoe in /Users/raj/opt/anaconda3/lib/python3.8/site-packages (0.3.8)\n",
      "Requirement already satisfied: numpy in /Users/raj/opt/anaconda3/lib/python3.8/site-packages (from pydoe) (1.21.0)\n",
      "Requirement already satisfied: scipy in /Users/raj/opt/anaconda3/lib/python3.8/site-packages (from pydoe) (1.8.1)\n",
      "\u001b[33mDEPRECATION: pyodbc 4.0.0-unsupported has a non-standard version number. pip 24.0 will enforce this behaviour change. A possible replacement is to upgrade to a newer version of pyodbc or contact the author to suggest that they release a version with a conforming version number. Discussion can be found at https://github.com/pypa/pip/issues/12063\u001b[0m\u001b[33m\n",
      "\u001b[0m"
     ]
    }
   ],
   "source": [
    "!pip install pydoe\n"
   ]
  },
  {
   "cell_type": "code",
   "execution_count": 47,
   "id": "e1f42250",
   "metadata": {},
   "outputs": [],
   "source": [
    "import scipy \n",
    "from scipy.interpolate import griddata\n",
    "import numpy as np\n",
    "import matplotlib.pyplot as plt\n",
    "from pyDOE import lhs"
   ]
  },
  {
   "cell_type": "code",
   "execution_count": 51,
   "id": "9163cf55",
   "metadata": {},
   "outputs": [],
   "source": [
    "f = lambda x, y: np.exp(-(x - 0.5)**2 - (y - 0.5)**2)"
   ]
  },
  {
   "cell_type": "code",
   "execution_count": 52,
   "id": "5a6d69f0",
   "metadata": {},
   "outputs": [
    {
     "data": {
      "image/png": "[encoded data removed]",
      "text/plain": [
       "<Figure size 432x288 with 1 Axes>"
      ]
     },
     "metadata": {
      "needs_background": "light"
     },
     "output_type": "display_data"
    }
   ],
   "source": [
    "## Coordinates of vertices of a square\n",
    "x = np.array([0, 1, 1, 0, 0])\n",
    "y = np.array([0, 0, 1, 1, 0])\n",
    "## Random sample using latin hypercube sampling approach\n",
    "\n",
    "Nf = 1000\n",
    "xy_lhs = lhs(2, Nf)\n",
    "plt.plot(x, y, \"-r\", lw=2.0)\n",
    "plt.plot(xy_lhs[:,0], xy_lhs[:,1],  \".b\", ms=2.0);\n",
    "\n",
    "\n",
    "\n"
   ]
  },
  {
   "cell_type": "code",
   "execution_count": 54,
   "id": "6d8e413b",
   "metadata": {},
   "outputs": [
    {
     "data": {
      "text/plain": [
       "Text(0.5, 0, 'Z label')"
      ]
     },
     "execution_count": 54,
     "metadata": {},
     "output_type": "execute_result"
    },
    {
     "data": {
      "image/png": "[encoded data removed]",
      "text/plain": [
       "<Figure size 432x288 with 1 Axes>"
      ]
     },
     "metadata": {
      "needs_background": "light"
     },
     "output_type": "display_data"
    }
   ],
   "source": [
    "## Plot the random data\n",
    "ax = plt.figure().add_subplot(projection='3d')\n",
    "z_sparse = f(xy_lhs[:,0], xy_lhs[:, 1])\n",
    "ax.scatter(xy_lhs[:,0], xy_lhs[:, 1], z_sparse, marker=\"o\")\n",
    "ax.set_xlabel(\"X label\")\n",
    "ax.set_ylabel(\"Y label\")\n",
    "ax.set_zlabel(\"Z label\") \n",
    "    \n"
   ]
  },
  {
   "cell_type": "code",
   "execution_count": 62,
   "id": "384f7f66",
   "metadata": {},
   "outputs": [
    {
     "data": {
      "text/plain": [
       "Text(0.5, 0, 'Z label')"
      ]
     },
     "execution_count": 62,
     "metadata": {},
     "output_type": "execute_result"
    },
    {
     "data": {
      "image/png": "[encoded data removed]",
      "text/plain": [
       "<Figure size 432x288 with 1 Axes>"
      ]
     },
     "metadata": {
      "needs_background": "light"
     },
     "output_type": "display_data"
    },
    {
     "data": {
      "image/png": "[encoded data removed]",
      "text/plain": [
       "<Figure size 432x288 with 1 Axes>"
      ]
     },
     "metadata": {
      "needs_background": "light"
     },
     "output_type": "display_data"
    }
   ],
   "source": [
    "## mesh grid for complete plot\n",
    "\n",
    "x_a = np.linspace(0, 1, 100)\n",
    "y_a = np.linspace(0, 1, 100)\n",
    "xx, yy, = np.meshgrid(x_a, y_a)\n",
    "plt.plot(xx, yy, \".r\", ms=4.0)\n",
    "ax = plt.figure().add_subplot(projection='3d')\n",
    "z_dense = f(xx, yy)\n",
    "ax.plot_surface(xx, yy, z_dense, cmap='autumn', cstride=2, rstride=2)\n",
    "ax.set_xlabel(\"X label\")\n",
    "ax.set_ylabel(\"Y label\")\n",
    "ax.set_zlabel(\"Z label\")\n"
   ]
  },
  {
   "cell_type": "code",
   "execution_count": 56,
   "id": "80263e49",
   "metadata": {},
   "outputs": [],
   "source": [
    "# Project Sparse Data on Dense Grid\n",
    "f_pred = griddata(xy_lhs, z_sparse, (xx, yy), method='linear')\n"
   ]
  },
  {
   "cell_type": "code",
   "execution_count": 57,
   "id": "d82df252",
   "metadata": {},
   "outputs": [
    {
     "data": {
      "text/plain": [
       "Text(0.5, 0, 'Z label')"
      ]
     },
     "execution_count": 57,
     "metadata": {},
     "output_type": "execute_result"
    },
    {
     "data": {
      "image/png": "[encoded data removed]",
      "text/plain": [
       "<Figure size 432x288 with 1 Axes>"
      ]
     },
     "metadata": {
      "needs_background": "light"
     },
     "output_type": "display_data"
    }
   ],
   "source": [
    "#Plot Projected Data\n",
    "ax = plt.figure().add_subplot(projection='3d')\n",
    "z_dense = f(xx, yy)\n",
    "ax.plot_surface(xx, yy, f_pred, cmap='autumn', cstride=2, rstride=2)\n",
    "ax.set_xlabel(\"X label\")\n",
    "ax.set_ylabel(\"Y label\")\n",
    "ax.set_zlabel(\"Z label\")"
   ]
  },
  {
   "cell_type": "code",
   "execution_count": 59,
   "id": "88146caa",
   "metadata": {},
   "outputs": [
    {
     "name": "stdout",
     "output_type": "stream",
     "text": [
      "4.0 + 10.0j\n"
     ]
    }
   ],
   "source": [
    "class Complex(object):\n",
    "    def __init__(self, r, i):\n",
    "        self.r = r\n",
    "        self.i = i\n",
    "        \n",
    "    def __add__(self, c):\n",
    "        result_r = self.r + c.r\n",
    "        result_i = self.i + c.i\n",
    "        return Complex(result_r, result_i)\n",
    "            \n",
    "        \n",
    "    def __str__(self):\n",
    "        s = str(self.r) + \" + \"  + str(self.i) + \"j\"\n",
    "        return s\n",
    "        \n",
    "c1 = Complex(2.0, 5.0)\n",
    "c2 = Complex(2.0, 5.0)\n",
    "\n",
    "c = c1 + c2\n",
    "print(f\"{c}\")"
   ]
  },
  {
   "cell_type": "code",
   "execution_count": null,
   "id": "182d6a0a",
   "metadata": {},
   "outputs": [],
   "source": []
  }
 ],
 "metadata": {
  "kernelspec": {
   "display_name": "Python 3",
   "language": "python",
   "name": "python3"
  },
  "language_info": {
   "codemirror_mode": {
    "name": "ipython",
    "version": 3
   },
   "file_extension": ".py",
   "mimetype": "text/x-python",
   "name": "python",
   "nbconvert_exporter": "python",
   "pygments_lexer": "ipython3",
   "version": "3.8.8"
  }
 },
 "nbformat": 4,
 "nbformat_minor": 5
}
