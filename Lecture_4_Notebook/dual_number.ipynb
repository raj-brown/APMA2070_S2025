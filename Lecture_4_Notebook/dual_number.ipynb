{
 "cells": [
  {
   "cell_type": "markdown",
   "id": "ad076bc6",
   "metadata": {},
   "source": [
    "#### Babylonian square root\n",
    "Compute $\\sqrt{x}$.\n",
    "##### How?\n",
    "Continue $ s \\leftarrow (s + x /s) / 2 $ till $ s \\rightarrow \\sqrt(x)$."
   ]
  },
  {
   "cell_type": "code",
   "execution_count": 1,
   "id": "e2a1a49b",
   "metadata": {},
   "outputs": [],
   "source": [
    "def babylon(x, N):\n",
    "    s = (1.0 + x)/2.0\n",
    "    for i in range(1, N):\n",
    "        s = (s + x/s) / 2.0\n",
    "    return s"
   ]
  },
  {
   "cell_type": "code",
   "execution_count": 24,
   "id": "3db46d7a",
   "metadata": {},
   "outputs": [
    {
     "name": "stdout",
     "output_type": "stream",
     "text": [
      "Sqrt from Babylonian Approach: 1.414213562373095\n",
      "Sqrt from NumPy Approach is: 1.4142135623730951\n"
     ]
    }
   ],
   "source": [
    "x = 2.0\n",
    "print(f\"Sqrt from Babylonian Approach: {babylon(s, 10)}\")\n",
    "print(f\"Sqrt from NumPy Approach is: {np.sqrt(s)}\")"
   ]
  },
  {
   "cell_type": "code",
   "execution_count": 26,
   "id": "d6e74945",
   "metadata": {},
   "outputs": [],
   "source": [
    "def diff_babylonian(x, N):\n",
    "    s = (1.0 + x)/2.0\n",
    "    s_prime = 1.0/ 2.0\n",
    "    for i in range(1, N):\n",
    "        s = (s + x/s) / 2.0\n",
    "        s_prime = (1/2.0)*(s_prime + (s - x * s_prime)/(s**2))\n",
    "    return s, s_prime\n",
    "\n",
    "    "
   ]
  },
  {
   "cell_type": "code",
   "execution_count": 31,
   "id": "0bf01176",
   "metadata": {},
   "outputs": [
    {
     "name": "stdout",
     "output_type": "stream",
     "text": [
      "value of sqrt(x) is : 1.414213562373095\n",
      "Derivative of sqrt(x) is: 0.35355339059327373\n",
      "Analytical derivative of sqrt(x) is: 0.35355339059327373\n"
     ]
    }
   ],
   "source": [
    "s, s_prime = diff_babylonian(2, 10)\n",
    "\n",
    "print(f\"value of sqrt(x) is : {s}\")\n",
    "print(f\"Derivative of sqrt(x) is: {s_prime}\")\n",
    "print(f\"Analytical derivative of sqrt(x) is: {0.5 *1/np.sqrt(2)}\")"
   ]
  },
  {
   "cell_type": "code",
   "execution_count": 32,
   "id": "b13335d5",
   "metadata": {},
   "outputs": [
    {
     "name": "stdout",
     "output_type": "stream",
     "text": [
      "Requirement already satisfied: sympy in /Users/raj/opt/anaconda3/lib/python3.8/site-packages (1.8)\n",
      "Requirement already satisfied: mpmath>=0.19 in /Users/raj/opt/anaconda3/lib/python3.8/site-packages (from sympy) (1.2.1)\n",
      "\u001b[33mWARNING: You are using pip version 22.0.4; however, version 22.3.1 is available.\n",
      "You should consider upgrading via the '/Users/raj/opt/anaconda3/bin/python -m pip install --upgrade pip' command.\u001b[0m\u001b[33m\n",
      "\u001b[0m"
     ]
    }
   ],
   "source": [
    "!pip install sympy"
   ]
  },
  {
   "cell_type": "code",
   "execution_count": 45,
   "id": "ca66308e",
   "metadata": {},
   "outputs": [
    {
     "name": "stdout",
     "output_type": "stream",
     "text": [
      "Symbolic for Function Evaluation\n",
      "0.5*x + 0.5\n",
      "0.5*x + 0.5\n",
      "0.25*x + 1.0*x/(x + 1) + 0.25\n",
      "(0.015625*x**4 + 0.4375*x**3 + 1.09375*x**2 + 0.4375*x + 0.015625)/(0.125*x**3 + 0.875*x**2 + 0.875*x + 0.125)\n",
      "(6.103515625e-5*x**8 + 0.00732421875*x**7 + 0.111083984375*x**6 + 0.48876953125*x**5 + 0.7855224609375*x**4 + 0.48876953125*x**3 + 0.111083984375*x**2 + 0.00732421875*x + 6.103515625e-5)/(0.0009765625*x**7 + 0.0341796875*x**6 + 0.2666015625*x**5 + 0.6982421875*x**4 + 0.6982421875*x**3 + 0.2666015625*x**2 + 0.0341796875*x + 0.0009765625)\n",
      "***********+++++++***********\n",
      "Symbolic for Derivative Evaluation\n",
      "(3.72529029846191e-9*x**20 + 3.87430191040039e-7*x**19 + 2.16737389564514e-5*x**18 + 0.000664353370666504*x**17 + 0.0112408436834812*x**16 + 0.115458369255066*x**15 + 0.761909335851669*x**14 + 3.33969330787659*x**13 + 9.95655024796724*x**12 + 20.4859389662743*x**11 + 29.3279034942389*x**10 + 29.3301267623901*x**9 + 20.4844993725419*x**8 + 9.95705211162567*x**7 + 3.33972844481468*x**6 + 0.761770963668823*x**5 + 0.11552881076932*x**4 + 0.0112256109714508*x**3 + 0.000664331018924713*x**2 + 2.22921371459961e-5*x + 3.16649675369263e-7)/(5.96046447753906e-8*x**20 + 6.19888305664063e-6*x**19 + 0.000261664390563965*x**18 + 0.00583887100219727*x**17 + 0.0763652920722961*x**16 + 0.625497817993164*x**15 + 3.35175752639771*x**14 + 12.0893878936768*x**13 + 29.8995410203934*x**12 + 51.2792692184448*x**11 + 61.3441488742828*x**10 + 51.2792692184448*x**9 + 29.8995410203934*x**8 + 12.0893878936768*x**7 + 3.35175752639771*x**6 + 0.625497817993164*x**5 + 0.0763652920722961*x**4 + 0.00583887100219727*x**3 + 0.000261664390563965*x**2 + 6.19888305664063e-6*x + 5.96046447753906e-8)\n",
      "(3.72529029846191e-9*x**20 + 3.87430191040039e-7*x**19 + 2.16737389564514e-5*x**18 + 0.000664353370666504*x**17 + 0.0112408436834812*x**16 + 0.115458369255066*x**15 + 0.761909335851669*x**14 + 3.33969330787659*x**13 + 9.95655024796724*x**12 + 20.4859389662743*x**11 + 29.3279034942389*x**10 + 29.3301267623901*x**9 + 20.4844993725419*x**8 + 9.95705211162567*x**7 + 3.33972844481468*x**6 + 0.761770963668823*x**5 + 0.11552881076932*x**4 + 0.0112256109714508*x**3 + 0.000664331018924713*x**2 + 2.22921371459961e-5*x + 3.16649675369263e-7)/(5.96046447753906e-8*x**20 + 6.19888305664063e-6*x**19 + 0.000261664390563965*x**18 + 0.00583887100219727*x**17 + 0.0763652920722961*x**16 + 0.625497817993164*x**15 + 3.35175752639771*x**14 + 12.0893878936768*x**13 + 29.8995410203934*x**12 + 51.2792692184448*x**11 + 61.3441488742828*x**10 + 51.2792692184448*x**9 + 29.8995410203934*x**8 + 12.0893878936768*x**7 + 3.35175752639771*x**6 + 0.625497817993164*x**5 + 0.0763652920722961*x**4 + 0.00583887100219727*x**3 + 0.000261664390563965*x**2 + 6.19888305664063e-6*x + 5.96046447753906e-8)\n",
      "(3.72529029846191e-9*x**20 + 3.87430191040039e-7*x**19 + 2.16737389564514e-5*x**18 + 0.000664353370666504*x**17 + 0.0112408436834812*x**16 + 0.115458369255066*x**15 + 0.761909335851669*x**14 + 3.33969330787659*x**13 + 9.95655024796724*x**12 + 20.4859389662743*x**11 + 29.3279034942389*x**10 + 29.3301267623901*x**9 + 20.4844993725419*x**8 + 9.95705211162567*x**7 + 3.33972844481468*x**6 + 0.761770963668823*x**5 + 0.11552881076932*x**4 + 0.0112256109714508*x**3 + 0.000664331018924713*x**2 + 2.22921371459961e-5*x + 3.16649675369263e-7)/(5.96046447753906e-8*x**20 + 6.19888305664063e-6*x**19 + 0.000261664390563965*x**18 + 0.00583887100219727*x**17 + 0.0763652920722961*x**16 + 0.625497817993164*x**15 + 3.35175752639771*x**14 + 12.0893878936768*x**13 + 29.8995410203934*x**12 + 51.2792692184448*x**11 + 61.3441488742828*x**10 + 51.2792692184448*x**9 + 29.8995410203934*x**8 + 12.0893878936768*x**7 + 3.35175752639771*x**6 + 0.625497817993164*x**5 + 0.0763652920722961*x**4 + 0.00583887100219727*x**3 + 0.000261664390563965*x**2 + 6.19888305664063e-6*x + 5.96046447753906e-8)\n",
      "(3.72529029846191e-9*x**20 + 3.87430191040039e-7*x**19 + 2.16737389564514e-5*x**18 + 0.000664353370666504*x**17 + 0.0112408436834812*x**16 + 0.115458369255066*x**15 + 0.761909335851669*x**14 + 3.33969330787659*x**13 + 9.95655024796724*x**12 + 20.4859389662743*x**11 + 29.3279034942389*x**10 + 29.3301267623901*x**9 + 20.4844993725419*x**8 + 9.95705211162567*x**7 + 3.33972844481468*x**6 + 0.761770963668823*x**5 + 0.11552881076932*x**4 + 0.0112256109714508*x**3 + 0.000664331018924713*x**2 + 2.22921371459961e-5*x + 3.16649675369263e-7)/(5.96046447753906e-8*x**20 + 6.19888305664063e-6*x**19 + 0.000261664390563965*x**18 + 0.00583887100219727*x**17 + 0.0763652920722961*x**16 + 0.625497817993164*x**15 + 3.35175752639771*x**14 + 12.0893878936768*x**13 + 29.8995410203934*x**12 + 51.2792692184448*x**11 + 61.3441488742828*x**10 + 51.2792692184448*x**9 + 29.8995410203934*x**8 + 12.0893878936768*x**7 + 3.35175752639771*x**6 + 0.625497817993164*x**5 + 0.0763652920722961*x**4 + 0.00583887100219727*x**3 + 0.000261664390563965*x**2 + 6.19888305664063e-6*x + 5.96046447753906e-8)\n",
      "(3.72529029846191e-9*x**20 + 3.87430191040039e-7*x**19 + 2.16737389564514e-5*x**18 + 0.000664353370666504*x**17 + 0.0112408436834812*x**16 + 0.115458369255066*x**15 + 0.761909335851669*x**14 + 3.33969330787659*x**13 + 9.95655024796724*x**12 + 20.4859389662743*x**11 + 29.3279034942389*x**10 + 29.3301267623901*x**9 + 20.4844993725419*x**8 + 9.95705211162567*x**7 + 3.33972844481468*x**6 + 0.761770963668823*x**5 + 0.11552881076932*x**4 + 0.0112256109714508*x**3 + 0.000664331018924713*x**2 + 2.22921371459961e-5*x + 3.16649675369263e-7)/(5.96046447753906e-8*x**20 + 6.19888305664063e-6*x**19 + 0.000261664390563965*x**18 + 0.00583887100219727*x**17 + 0.0763652920722961*x**16 + 0.625497817993164*x**15 + 3.35175752639771*x**14 + 12.0893878936768*x**13 + 29.8995410203934*x**12 + 51.2792692184448*x**11 + 61.3441488742828*x**10 + 51.2792692184448*x**9 + 29.8995410203934*x**8 + 12.0893878936768*x**7 + 3.35175752639771*x**6 + 0.625497817993164*x**5 + 0.0763652920722961*x**4 + 0.00583887100219727*x**3 + 0.000261664390563965*x**2 + 6.19888305664063e-6*x + 5.96046447753906e-8)\n"
     ]
    }
   ],
   "source": [
    "import sympy as sp\n",
    "x = sp.symbols(\"x\")\n",
    "\n",
    "# Symbolic for Function Evaluation\n",
    "print(\"Symbolic for Function Evaluation\")\n",
    "for i in range(0, 5):\n",
    "    print(sp.simplify(babylon(x, i)))\n",
    "\n",
    "print(\"***********+++++++***********\")\n",
    "print(\"Symbolic for Derivative Evaluation\")\n",
    "for j in range(0, 5):\n",
    "    print(sp.simplify(sp.simplify(sp.diff(babylon(x, i)))))"
   ]
  },
  {
   "cell_type": "markdown",
   "id": "56d87e32",
   "metadata": {},
   "source": [
    "## Dual Numbers"
   ]
  },
  {
   "cell_type": "markdown",
   "id": "1782e50a",
   "metadata": {},
   "source": [
    "### Addition rule\n",
    "$$\n",
    "h(x) = f(x) + g(x)\n",
    "$$\n",
    "$$\n",
    "h'(x) = f'(x) + g'(x)\n",
    "$$\n",
    "\n",
    "\n",
    "### Product rule\n",
    "$$\n",
    "h(x) = f(x)*g(x)\n",
    "$$\n",
    "\n",
    "$$\n",
    "h'(x) = f'(x)*g(x) + g'(x)f(x)\n",
    "$$\n",
    "\n",
    "### Quotient rule\n",
    "$$\n",
    "h(x) = \\frac{f(x)}{g(x)}\n",
    "$$\n",
    "$$\n",
    "h'(x) = \\frac{g(x)f'(x) -f(x)g'(x)}{g(x)^2}\n",
    "$$"
   ]
  },
  {
   "cell_type": "code",
   "execution_count": 102,
   "id": "8b4b428f",
   "metadata": {},
   "outputs": [],
   "source": [
    "from math import sin, cos\n",
    "\n",
    "class Dual(object):\n",
    "    def __init__(self, x, ϵ=1):\n",
    "        self.x = x\n",
    "        self.ϵ = ϵ\n",
    "        \n",
    "    def __str__(self):\n",
    "        return str(self.x) + \" + \" + str(self.ϵ) + \"ϵ\"\n",
    "    \n",
    "    def __mul__(self, d):\n",
    "        return Dual(self.x * d.x, self.x*d.ϵ + d.x*self.ϵ)\n",
    "    \n",
    "    def __add__(self, d):\n",
    "        return Dual(self.x + d.x, self.ϵ + d.ϵ)\n",
    "    \n",
    "    def __truediv__(self, d):\n",
    "        return Dual(self.x/d.x, ((d.x *self.ϵ - d.ϵ * self.x )/d.x**2))\n",
    "    \n",
    "    def d_sin(self):\n",
    "        return Dual(sin(self.x), cos(self.x)*self.ϵ)\n",
    "        \n",
    "        \n",
    "        \n",
    "              \n",
    "        \n",
    "        "
   ]
  },
  {
   "cell_type": "code",
   "execution_count": 107,
   "id": "6dcb9353",
   "metadata": {},
   "outputs": [
    {
     "name": "stdout",
     "output_type": "stream",
     "text": [
      "Differentiation of addition is 9 + 2ϵ\n",
      "Differentiation of multiplication is 9 + 6ϵ\n",
      "Differentiation of division is 2.0 + -0.3333333333333333ϵ\n",
      "Differentiation of sin function is 0.1411200080598672 + -0.9899924966004454ϵ\n"
     ]
    }
   ],
   "source": [
    "\n",
    "D=Dual(3) + Dual(3) + Dual(3, 0)  ## 2*x + 3\n",
    "print(f\"Differentiation of addition is {D}\")\n",
    "\n",
    "D = Dual(3)*Dual(3)  ## x**2\n",
    "print(f\"Differentiation of multiplication is {D}\")\n",
    "\n",
    "D = Dual(6)/Dual(3)  ## x**2\n",
    "print(f\"Differentiation of division is {D}\")\n",
    "\n",
    "\n",
    "d = Dual(3)\n",
    "D = d.d_sin()\n",
    "print(f\"Differentiation of sin function is {D}\")\n"
   ]
  },
  {
   "cell_type": "code",
   "execution_count": 106,
   "id": "303af6a7",
   "metadata": {},
   "outputs": [
    {
     "data": {
      "text/plain": [
       "-0.9899924966004454"
      ]
     },
     "execution_count": 106,
     "metadata": {},
     "output_type": "execute_result"
    }
   ],
   "source": [
    "cos(3)"
   ]
  },
  {
   "cell_type": "markdown",
   "id": "d3f3cef6",
   "metadata": {},
   "source": [
    "### Chain rule\n",
    "$$\n",
    "f(x) = g(h(x))\n",
    "$$\n",
    "\n",
    "$$\n",
    "f'(x) = g'(h(x))h'(x)\n",
    "$$\n",
    "\n",
    "Consider $f(x) = \\sin(h(x))$\n",
    "$$\n",
    "\\frac{\\rm d}{\\rm dx} \\sin(h(x)) = \\cos(h(x))\\frac{\\rm dh}{\\rm dx}\n",
    "$$"
   ]
  },
  {
   "cell_type": "code",
   "execution_count": 89,
   "id": "6ea1ec6d",
   "metadata": {},
   "outputs": [
    {
     "data": {
      "text/plain": [
       "['__abs__',\n",
       " '__add__',\n",
       " '__and__',\n",
       " '__bool__',\n",
       " '__ceil__',\n",
       " '__class__',\n",
       " '__delattr__',\n",
       " '__dir__',\n",
       " '__divmod__',\n",
       " '__doc__',\n",
       " '__eq__',\n",
       " '__float__',\n",
       " '__floor__',\n",
       " '__floordiv__',\n",
       " '__format__',\n",
       " '__ge__',\n",
       " '__getattribute__',\n",
       " '__getnewargs__',\n",
       " '__gt__',\n",
       " '__hash__',\n",
       " '__index__',\n",
       " '__init__',\n",
       " '__init_subclass__',\n",
       " '__int__',\n",
       " '__invert__',\n",
       " '__le__',\n",
       " '__lshift__',\n",
       " '__lt__',\n",
       " '__mod__',\n",
       " '__mul__',\n",
       " '__ne__',\n",
       " '__neg__',\n",
       " '__new__',\n",
       " '__or__',\n",
       " '__pos__',\n",
       " '__pow__',\n",
       " '__radd__',\n",
       " '__rand__',\n",
       " '__rdivmod__',\n",
       " '__reduce__',\n",
       " '__reduce_ex__',\n",
       " '__repr__',\n",
       " '__rfloordiv__',\n",
       " '__rlshift__',\n",
       " '__rmod__',\n",
       " '__rmul__',\n",
       " '__ror__',\n",
       " '__round__',\n",
       " '__rpow__',\n",
       " '__rrshift__',\n",
       " '__rshift__',\n",
       " '__rsub__',\n",
       " '__rtruediv__',\n",
       " '__rxor__',\n",
       " '__setattr__',\n",
       " '__sizeof__',\n",
       " '__str__',\n",
       " '__sub__',\n",
       " '__subclasshook__',\n",
       " '__truediv__',\n",
       " '__trunc__',\n",
       " '__xor__',\n",
       " 'as_integer_ratio',\n",
       " 'bit_length',\n",
       " 'conjugate',\n",
       " 'denominator',\n",
       " 'from_bytes',\n",
       " 'imag',\n",
       " 'numerator',\n",
       " 'real',\n",
       " 'to_bytes']"
      ]
     },
     "execution_count": 89,
     "metadata": {},
     "output_type": "execute_result"
    }
   ],
   "source": [
    "dir(3)"
   ]
  },
  {
   "cell_type": "code",
   "execution_count": null,
   "id": "baa3c5c0",
   "metadata": {},
   "outputs": [],
   "source": []
  }
 ],
 "metadata": {
  "kernelspec": {
   "display_name": "Python 3",
   "language": "python",
   "name": "python3"
  },
  "language_info": {
   "codemirror_mode": {
    "name": "ipython",
    "version": 3
   },
   "file_extension": ".py",
   "mimetype": "text/x-python",
   "name": "python",
   "nbconvert_exporter": "python",
   "pygments_lexer": "ipython3",
   "version": "3.8.8"
  }
 },
 "nbformat": 4,
 "nbformat_minor": 5
}
